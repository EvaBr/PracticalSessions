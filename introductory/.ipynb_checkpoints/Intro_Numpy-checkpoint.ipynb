{
 "cells": [
  {
   "cell_type": "markdown",
   "metadata": {
    "colab_type": "text",
    "id": "TK_s931vVvwi"
   },
   "source": [
    "# Numpy\n",
    "\n",
    "\" NumPy is the fundamental package for scientific computing with Python.  It contains among other things:\n",
    "\n",
    "* a powerful N-dimensional array object\n",
    "* sophisticated (broadcasting) functions\n",
    "* useful linear algebra, Fourier transform, and random number capabilities \"\n",
    "\n",
    "\n",
    "-- From the [NumPy](http://www.numpy.org/) landing page.\n",
    "\n"
   ]
  },
  {
   "cell_type": "markdown",
   "metadata": {
    "colab_type": "text",
    "id": "kVwjoPsFGgbH"
   },
   "source": [
    "Before learning about numpy, we introduce..\n",
    "\n",
    "### The NXOR Function\n",
    "\n",
    "Many of the exercises involve working with the  $\\mathrm{NXOR} \\colon \\; [-1, 1]^2  \\rightarrow \\{-1, +1\\}$ function defined as \n",
    "\n",
    "$$ (x_1, x_2) \\longmapsto \\mathrm{sgn}(x_1 \\cdot x_2) .$$\n",
    "\n",
    "where for $x_1 \\cdot x_2 = 0$ we let $\\mathrm{NXOR}(x_1, x_2) = -1$.\n",
    "\n",
    "We can visualize this function as\n",
    "\n",
    "![A set of points in \\[-1, +1\\]^2 with green and red markers denoting the value assigned to them by the NXOR function](https://github.com/tmlss2018/PracticalSessions/blob/master/assets/nxor_labels.png?raw=true)\n",
    "\n",
    "where each point in $ [-1, 1]^2$ is marked by green (+1) or red (-1) according to the value assigned to it by the NXOR function.\n",
    "\n",
    "\n"
   ]
  },
  {
   "cell_type": "markdown",
   "metadata": {
    "colab_type": "text",
    "id": "9HfKNF9JG3Sg"
   },
   "source": [
    "\n",
    "Over the course of the intro lab exercises we will\n",
    "\n",
    "1. Generate such data with numpy.\n",
    "2. Create the plot above with matplotlib.\n",
    "3. Train a model to learn this function.\n"
   ]
  },
  {
   "cell_type": "markdown",
   "metadata": {
    "colab_type": "text",
    "id": "psAhyeala4Qa"
   },
   "source": [
    "### Setup and imports. Run the following cell."
   ]
  },
  {
   "cell_type": "code",
   "execution_count": 0,
   "metadata": {
    "colab": {},
    "colab_type": "code",
    "id": "jJmfT0IMa494"
   },
   "outputs": [],
   "source": [
    "from __future__ import absolute_import\n",
    "from __future__ import division\n",
    "from __future__ import print_function\n",
    "\n",
    "import numpy as np\n"
   ]
  },
  {
   "cell_type": "markdown",
   "metadata": {
    "colab_type": "text",
    "id": "209T8819ws6R"
   },
   "source": [
    "### Random numbers in numpy"
   ]
  },
  {
   "cell_type": "code",
   "execution_count": 2,
   "metadata": {
    "colab": {
     "base_uri": "https://localhost:8080/",
     "height": 68
    },
    "colab_type": "code",
    "executionInfo": {
     "elapsed": 509,
     "status": "ok",
     "timestamp": 1561448472545,
     "user": {
      "displayName": "David Szepesvari",
      "photoUrl": "https://lh4.googleusercontent.com/-djDv8j7EUOg/AAAAAAAAAAI/AAAAAAAAAEs/s9Ds-tUarwE/s64/photo.jpg",
      "userId": "06728915078212315022"
     },
     "user_tz": -60
    },
    "id": "HPoRLRxdwyHs",
    "outputId": "33f38fbd-057f-4158-a2d9-1ce5ce39ce0c"
   },
   "outputs": [
    {
     "data": {
      "text/plain": [
       "array([[0.77128434, 0.72325192],\n",
       "       [0.09078545, 0.15885035],\n",
       "       [0.40361213, 0.84677164]])"
      ]
     },
     "execution_count": 2,
     "metadata": {
      "tags": []
     },
     "output_type": "execute_result"
    }
   ],
   "source": [
    "np.random.random((3, 2))  # Array of shape (3, 2), entries uniform in [0, 1)."
   ]
  },
  {
   "cell_type": "markdown",
   "metadata": {
    "colab_type": "text",
    "id": "d1xeqjN_eGrM"
   },
   "source": [
    "Note that (as usual in computing) numpy produces pseudo-random numbers based on a seed, or more precisely a random state. In order to make random sequences and calculations based on reproducible, use\n",
    "\n",
    "* the [`np.random.seed()`](https://docs.scipy.org/doc/numpy/reference/generated/numpy.random.seed.html) function to set the default global seed, or\n",
    "* the [`np.random.RandomState`](https://docs.scipy.org/doc/numpy/reference/generated/numpy.random.RandomState.html) class which is a container for a pseudo-random number generator and exposes methods for generating random numbers.\n"
   ]
  },
  {
   "cell_type": "code",
   "execution_count": 3,
   "metadata": {
    "colab": {
     "base_uri": "https://localhost:8080/",
     "height": 51
    },
    "colab_type": "code",
    "executionInfo": {
     "elapsed": 406,
     "status": "ok",
     "timestamp": 1561448474044,
     "user": {
      "displayName": "David Szepesvari",
      "photoUrl": "https://lh4.googleusercontent.com/-djDv8j7EUOg/AAAAAAAAAAI/AAAAAAAAAEs/s9Ds-tUarwE/s64/photo.jpg",
      "userId": "06728915078212315022"
     },
     "user_tz": -60
    },
    "id": "knUtcFWoFqK0",
    "outputId": "b0f1f96a-48fa-4700-b970-1c6295f233a9"
   },
   "outputs": [
    {
     "name": "stdout",
     "output_type": "stream",
     "text": [
      "[0.5488135  0.71518937]\n",
      "[0.5488135  0.71518937]\n"
     ]
    }
   ],
   "source": [
    "np.random.seed(0)\n",
    "print(np.random.random(2))\n",
    "# Reset the global random state to the same state.\n",
    "np.random.seed(0)\n",
    "print(np.random.random(2))"
   ]
  },
  {
   "cell_type": "markdown",
   "metadata": {
    "colab_type": "text",
    "id": "Tz435THaxePN"
   },
   "source": [
    "### Numpy Array Operations 1\n",
    "\n",
    "There are a large number of operations you can run on any numpy array. Here we showcase some common ones."
   ]
  },
  {
   "cell_type": "code",
   "execution_count": 4,
   "metadata": {
    "colab": {
     "base_uri": "https://localhost:8080/",
     "height": 204
    },
    "colab_type": "code",
    "executionInfo": {
     "elapsed": 420,
     "status": "ok",
     "timestamp": 1561448475941,
     "user": {
      "displayName": "David Szepesvari",
      "photoUrl": "https://lh4.googleusercontent.com/-djDv8j7EUOg/AAAAAAAAAAI/AAAAAAAAAEs/s9Ds-tUarwE/s64/photo.jpg",
      "userId": "06728915078212315022"
     },
     "user_tz": -60
    },
    "id": "YZbsqkyXxgUo",
    "outputId": "bceb7c88-46cc-43de-e6e6-ad032693c27e"
   },
   "outputs": [
    {
     "name": "stdout",
     "output_type": "stream",
     "text": [
      "The array:\n",
      " [[0.  0.2]\n",
      " [0.9 0.5]\n",
      " [0.3 0.7]]\n",
      "\n",
      "data type float64\n",
      "transpose\n",
      " [[0.  0.9 0.3]\n",
      " [0.2 0.5 0.7]]\n",
      "shape (3, 2)\n",
      "reshaping an array [0.  0.2 0.9 0.5 0.3 0.7]\n"
     ]
    }
   ],
   "source": [
    "# Create one from hard-coded data:\n",
    "ar = np.array([\n",
    "    [0.0, 0.2],\n",
    "    [0.9, 0.5],\n",
    "    [0.3, 0.7],\n",
    "], dtype=np.float64)  # float64 is the default.\n",
    "\n",
    "print('The array:\\n', ar)\n",
    "print()\n",
    "\n",
    "print('data type', ar.dtype)\n",
    "print('transpose\\n', ar.T)\n",
    "print('shape', ar.shape)\n",
    "print('reshaping an array', ar.reshape((6)))\n",
    "\n"
   ]
  },
  {
   "cell_type": "markdown",
   "metadata": {
    "colab_type": "text",
    "id": "s5wC8i8_4WBf"
   },
   "source": [
    "Many numpy operations are available both as np module functions as well as array methods. For example, we can also reshape as"
   ]
  },
  {
   "cell_type": "code",
   "execution_count": 5,
   "metadata": {
    "colab": {
     "base_uri": "https://localhost:8080/",
     "height": 119
    },
    "colab_type": "code",
    "executionInfo": {
     "elapsed": 404,
     "status": "ok",
     "timestamp": 1561448477801,
     "user": {
      "displayName": "David Szepesvari",
      "photoUrl": "https://lh4.googleusercontent.com/-djDv8j7EUOg/AAAAAAAAAAI/AAAAAAAAAEs/s9Ds-tUarwE/s64/photo.jpg",
      "userId": "06728915078212315022"
     },
     "user_tz": -60
    },
    "id": "AjGy5myl4jxo",
    "outputId": "d5ec5a19-a439-4144-c734-6f46ecf545b2"
   },
   "outputs": [
    {
     "name": "stdout",
     "output_type": "stream",
     "text": [
      "reshape v2 [[0. ]\n",
      " [0.2]\n",
      " [0.9]\n",
      " [0.5]\n",
      " [0.3]\n",
      " [0.7]]\n"
     ]
    }
   ],
   "source": [
    "print('reshape v2', np.reshape(ar, (6, 1)))"
   ]
  },
  {
   "cell_type": "markdown",
   "metadata": {
    "colab_type": "text",
    "id": "Tt4G37QAGWl4"
   },
   "source": [
    "### Numpy Indexing and selectors\n",
    "\n",
    "Here are some basic indexing examples from numpy."
   ]
  },
  {
   "cell_type": "code",
   "execution_count": 6,
   "metadata": {
    "colab": {
     "base_uri": "https://localhost:8080/",
     "height": 68
    },
    "colab_type": "code",
    "executionInfo": {
     "elapsed": 456,
     "status": "ok",
     "timestamp": 1561448479477,
     "user": {
      "displayName": "David Szepesvari",
      "photoUrl": "https://lh4.googleusercontent.com/-djDv8j7EUOg/AAAAAAAAAAI/AAAAAAAAAEs/s9Ds-tUarwE/s64/photo.jpg",
      "userId": "06728915078212315022"
     },
     "user_tz": -60
    },
    "id": "4Bbdmb0BGXPc",
    "outputId": "6711ac8c-0574-4866-cad7-56b732785e5c"
   },
   "outputs": [
    {
     "data": {
      "text/plain": [
       "array([[0. , 0.2],\n",
       "       [0.9, 0.5],\n",
       "       [0.3, 0.7]])"
      ]
     },
     "execution_count": 6,
     "metadata": {
      "tags": []
     },
     "output_type": "execute_result"
    }
   ],
   "source": [
    "ar"
   ]
  },
  {
   "cell_type": "code",
   "execution_count": 7,
   "metadata": {
    "colab": {
     "base_uri": "https://localhost:8080/",
     "height": 34
    },
    "colab_type": "code",
    "executionInfo": {
     "elapsed": 600,
     "status": "ok",
     "timestamp": 1561448480927,
     "user": {
      "displayName": "David Szepesvari",
      "photoUrl": "https://lh4.googleusercontent.com/-djDv8j7EUOg/AAAAAAAAAAI/AAAAAAAAAEs/s9Ds-tUarwE/s64/photo.jpg",
      "userId": "06728915078212315022"
     },
     "user_tz": -60
    },
    "id": "6lk0NQGGGpRK",
    "outputId": "20be6932-a877-4477-f5d7-0b278dbe4985"
   },
   "outputs": [
    {
     "data": {
      "text/plain": [
       "0.2"
      ]
     },
     "execution_count": 7,
     "metadata": {
      "tags": []
     },
     "output_type": "execute_result"
    }
   ],
   "source": [
    "ar[0, 1]  # row, column"
   ]
  },
  {
   "cell_type": "code",
   "execution_count": 8,
   "metadata": {
    "colab": {
     "base_uri": "https://localhost:8080/",
     "height": 34
    },
    "colab_type": "code",
    "executionInfo": {
     "elapsed": 537,
     "status": "ok",
     "timestamp": 1561448481814,
     "user": {
      "displayName": "David Szepesvari",
      "photoUrl": "https://lh4.googleusercontent.com/-djDv8j7EUOg/AAAAAAAAAAI/AAAAAAAAAEs/s9Ds-tUarwE/s64/photo.jpg",
      "userId": "06728915078212315022"
     },
     "user_tz": -60
    },
    "id": "Eh1zKgqMGpa-",
    "outputId": "82d23cab-82ee-4939-cea4-ba3be2e74ba2"
   },
   "outputs": [
    {
     "data": {
      "text/plain": [
       "array([0.2, 0.5, 0.7])"
      ]
     },
     "execution_count": 8,
     "metadata": {
      "tags": []
     },
     "output_type": "execute_result"
    }
   ],
   "source": [
    "ar[:, 1]  # slices: select all elements across the first (0th) axis."
   ]
  },
  {
   "cell_type": "code",
   "execution_count": 9,
   "metadata": {
    "colab": {
     "base_uri": "https://localhost:8080/",
     "height": 34
    },
    "colab_type": "code",
    "executionInfo": {
     "elapsed": 359,
     "status": "ok",
     "timestamp": 1561448482620,
     "user": {
      "displayName": "David Szepesvari",
      "photoUrl": "https://lh4.googleusercontent.com/-djDv8j7EUOg/AAAAAAAAAAI/AAAAAAAAAEs/s9Ds-tUarwE/s64/photo.jpg",
      "userId": "06728915078212315022"
     },
     "user_tz": -60
    },
    "id": "QVo9SdiWSZqn",
    "outputId": "074020ea-8d0b-413a-aef2-7cda2f74e487"
   },
   "outputs": [
    {
     "data": {
      "text/plain": [
       "array([0.5])"
      ]
     },
     "execution_count": 9,
     "metadata": {
      "tags": []
     },
     "output_type": "execute_result"
    }
   ],
   "source": [
    "ar[1:2, 1]  # slices with syntax from:to, selecting [from, to)."
   ]
  },
  {
   "cell_type": "code",
   "execution_count": 10,
   "metadata": {
    "colab": {
     "base_uri": "https://localhost:8080/",
     "height": 34
    },
    "colab_type": "code",
    "executionInfo": {
     "elapsed": 365,
     "status": "ok",
     "timestamp": 1561448483498,
     "user": {
      "displayName": "David Szepesvari",
      "photoUrl": "https://lh4.googleusercontent.com/-djDv8j7EUOg/AAAAAAAAAAI/AAAAAAAAAEs/s9Ds-tUarwE/s64/photo.jpg",
      "userId": "06728915078212315022"
     },
     "user_tz": -60
    },
    "id": "n64DQFr7Subs",
    "outputId": "f8dfa2b1-90ef-48da-8f48-e4ec56fd55be"
   },
   "outputs": [
    {
     "data": {
      "text/plain": [
       "array([0.5, 0.7])"
      ]
     },
     "execution_count": 10,
     "metadata": {
      "tags": []
     },
     "output_type": "execute_result"
    }
   ],
   "source": [
    "ar[1:, 1]  # Omit `to` to go all the way to the end"
   ]
  },
  {
   "cell_type": "code",
   "execution_count": 11,
   "metadata": {
    "colab": {
     "base_uri": "https://localhost:8080/",
     "height": 34
    },
    "colab_type": "code",
    "executionInfo": {
     "elapsed": 714,
     "status": "ok",
     "timestamp": 1561448486625,
     "user": {
      "displayName": "David Szepesvari",
      "photoUrl": "https://lh4.googleusercontent.com/-djDv8j7EUOg/AAAAAAAAAAI/AAAAAAAAAEs/s9Ds-tUarwE/s64/photo.jpg",
      "userId": "06728915078212315022"
     },
     "user_tz": -60
    },
    "id": "Uq7bmNPVTD2B",
    "outputId": "1cb23c64-0058-4ef6-f193-cbab1474ec7a"
   },
   "outputs": [
    {
     "data": {
      "text/plain": [
       "array([0.2, 0.5])"
      ]
     },
     "execution_count": 11,
     "metadata": {
      "tags": []
     },
     "output_type": "execute_result"
    }
   ],
   "source": [
    "ar[:2, 1]  # Omit `from` to start from the beginning"
   ]
  },
  {
   "cell_type": "code",
   "execution_count": 12,
   "metadata": {
    "colab": {
     "base_uri": "https://localhost:8080/",
     "height": 34
    },
    "colab_type": "code",
    "executionInfo": {
     "elapsed": 407,
     "status": "ok",
     "timestamp": 1561448486632,
     "user": {
      "displayName": "David Szepesvari",
      "photoUrl": "https://lh4.googleusercontent.com/-djDv8j7EUOg/AAAAAAAAAAI/AAAAAAAAAEs/s9Ds-tUarwE/s64/photo.jpg",
      "userId": "06728915078212315022"
     },
     "user_tz": -60
    },
    "id": "uJ7A1vVWTKQc",
    "outputId": "2f7ec484-5581-40e6-9214-f752611adca0"
   },
   "outputs": [
    {
     "data": {
      "text/plain": [
       "array([0.2, 0.5])"
      ]
     },
     "execution_count": 12,
     "metadata": {
      "tags": []
     },
     "output_type": "execute_result"
    }
   ],
   "source": [
    "ar[0:-1, 1]  # Use negative indexing to count elements from the back."
   ]
  },
  {
   "cell_type": "markdown",
   "metadata": {
    "colab_type": "text",
    "id": "CVizP583IolT"
   },
   "source": [
    "We can also pass boolean arrays as indices. These will exactly define which elements to select."
   ]
  },
  {
   "cell_type": "code",
   "execution_count": 13,
   "metadata": {
    "colab": {
     "base_uri": "https://localhost:8080/",
     "height": 34
    },
    "colab_type": "code",
    "executionInfo": {
     "elapsed": 452,
     "status": "ok",
     "timestamp": 1561448487630,
     "user": {
      "displayName": "David Szepesvari",
      "photoUrl": "https://lh4.googleusercontent.com/-djDv8j7EUOg/AAAAAAAAAAI/AAAAAAAAAEs/s9Ds-tUarwE/s64/photo.jpg",
      "userId": "06728915078212315022"
     },
     "user_tz": -60
    },
    "id": "-91q2Si7IBGN",
    "outputId": "bde3fde5-fc1b-4dfd-dc78-178997c5ad3d"
   },
   "outputs": [
    {
     "data": {
      "text/plain": [
       "array([0. , 0.5, 0.3])"
      ]
     },
     "execution_count": 13,
     "metadata": {
      "tags": []
     },
     "output_type": "execute_result"
    }
   ],
   "source": [
    "ar[np.array([\n",
    "    [True, False],\n",
    "    [False, True],\n",
    "    [True, False],\n",
    "])]"
   ]
  },
  {
   "cell_type": "markdown",
   "metadata": {
    "colab_type": "text",
    "id": "g9VttyKZI2aX"
   },
   "source": [
    "Boolean arrays can be created with logical operations, then used as selectors. Logical operators apply elementwise."
   ]
  },
  {
   "cell_type": "code",
   "execution_count": 14,
   "metadata": {
    "colab": {
     "base_uri": "https://localhost:8080/",
     "height": 68
    },
    "colab_type": "code",
    "executionInfo": {
     "elapsed": 664,
     "status": "ok",
     "timestamp": 1561448488931,
     "user": {
      "displayName": "David Szepesvari",
      "photoUrl": "https://lh4.googleusercontent.com/-djDv8j7EUOg/AAAAAAAAAAI/AAAAAAAAAEs/s9Ds-tUarwE/s64/photo.jpg",
      "userId": "06728915078212315022"
     },
     "user_tz": -60
    },
    "id": "KyH_50JVIWOK",
    "outputId": "67b28ae6-d6e6-4f62-b3ca-2d9d8a60d26e"
   },
   "outputs": [
    {
     "data": {
      "text/plain": [
       "array([[ 0. , -inf],\n",
       "       [ 0.9,  0.5],\n",
       "       [-inf,  0.7]])"
      ]
     },
     "execution_count": 14,
     "metadata": {
      "tags": []
     },
     "output_type": "execute_result"
    }
   ],
   "source": [
    "ar_2 = np.array([   # Nearly the same as ar\n",
    "    [0.0, 0.1],\n",
    "    [0.9, 0.5],\n",
    "    [0.0, 0.7],\n",
    "])\n",
    "\n",
    "# Where ar_2 is smaller than ar, let ar_2 be -inf.\n",
    "ar_2[ar_2 < ar] = -np.inf\n",
    "ar_2"
   ]
  },
  {
   "cell_type": "markdown",
   "metadata": {
    "colab_type": "text",
    "id": "-GwBK4LJGpjK"
   },
   "source": [
    "### Numpy Operations 2"
   ]
  },
  {
   "cell_type": "code",
   "execution_count": 15,
   "metadata": {
    "colab": {
     "base_uri": "https://localhost:8080/",
     "height": 170
    },
    "colab_type": "code",
    "executionInfo": {
     "elapsed": 414,
     "status": "ok",
     "timestamp": 1561448490751,
     "user": {
      "displayName": "David Szepesvari",
      "photoUrl": "https://lh4.googleusercontent.com/-djDv8j7EUOg/AAAAAAAAAAI/AAAAAAAAAEs/s9Ds-tUarwE/s64/photo.jpg",
      "userId": "06728915078212315022"
     },
     "user_tz": -60
    },
    "id": "gHElhCDy4SrG",
    "outputId": "39f113ad-65be-4242-939b-57629d8ae92f"
   },
   "outputs": [
    {
     "name": "stdout",
     "output_type": "stream",
     "text": [
      "array:\n",
      " [[0.  0.2]\n",
      " [0.9 0.5]\n",
      " [0.3 0.7]]\n",
      "\n",
      "sum across axis 0 (rows): [1.2 1.4]\n",
      "mean 0.43333333333333335\n",
      "min 0.0\n",
      "row-wise min [0.  0.5 0.3]\n"
     ]
    }
   ],
   "source": [
    "print('array:\\n', ar)\n",
    "print()\n",
    "\n",
    "print('sum across axis 0 (rows):', ar.sum(axis=0))\n",
    "print('mean', ar.mean())\n",
    "print('min', ar.min())\n",
    "print('row-wise min', ar.min(axis=1))\n"
   ]
  },
  {
   "cell_type": "markdown",
   "metadata": {
    "colab_type": "text",
    "id": "bSNi0aLs03J1"
   },
   "source": [
    "We can also take element-wise minimums between two arrays.\n",
    "\n",
    "We may want to do this when \"clipping\" values in a matrix, that is, setting any values larger than, say, 0.6, to 0.6. We would do this in numpy with..\n",
    "\n",
    "### Broadcasting (and selectors)"
   ]
  },
  {
   "cell_type": "code",
   "execution_count": 16,
   "metadata": {
    "colab": {
     "base_uri": "https://localhost:8080/",
     "height": 68
    },
    "colab_type": "code",
    "executionInfo": {
     "elapsed": 894,
     "status": "ok",
     "timestamp": 1561448492615,
     "user": {
      "displayName": "David Szepesvari",
      "photoUrl": "https://lh4.googleusercontent.com/-djDv8j7EUOg/AAAAAAAAAAI/AAAAAAAAAEs/s9Ds-tUarwE/s64/photo.jpg",
      "userId": "06728915078212315022"
     },
     "user_tz": -60
    },
    "id": "GLCN0umLxuLv",
    "outputId": "bf782867-79ae-4cf2-b4f3-3d6d89ce01d2"
   },
   "outputs": [
    {
     "data": {
      "text/plain": [
       "array([[0. , 0.2],\n",
       "       [0.6, 0.5],\n",
       "       [0.3, 0.6]])"
      ]
     },
     "execution_count": 16,
     "metadata": {
      "tags": []
     },
     "output_type": "execute_result"
    }
   ],
   "source": [
    "np.minimum(ar, 0.6)"
   ]
  },
  {
   "cell_type": "markdown",
   "metadata": {
    "colab_type": "text",
    "id": "Kmq7Yf_73GgC"
   },
   "source": [
    "Numpy automatically turns the scalar 0.6 into an array the same size as `ar` in order to take element-wise minimum.\n",
    "\n"
   ]
  },
  {
   "cell_type": "markdown",
   "metadata": {
    "colab_type": "text",
    "id": "vkM1cL-pBrEE"
   },
   "source": [
    "Broadcasting can save us a lot of typing, but in complicated cases it may require a good understanding of the exact rules followed.\n",
    "\n",
    "Some references:\n",
    "\n",
    "* [Numpy page that explains broadcasting](https://docs.scipy.org/doc/numpy-1.13.0/user/basics.broadcasting.html)\n",
    "* [Similar content with some visualizations](http://scipy.github.io/old-wiki/pages/EricsBroadcastingDoc)\n",
    "\n",
    "Here we follow with a selection of other useful broadcasting examples.\n"
   ]
  },
  {
   "cell_type": "code",
   "execution_count": 17,
   "metadata": {
    "colab": {
     "base_uri": "https://localhost:8080/",
     "height": 85
    },
    "colab_type": "code",
    "executionInfo": {
     "elapsed": 800,
     "status": "ok",
     "timestamp": 1561448496270,
     "user": {
      "displayName": "David Szepesvari",
      "photoUrl": "https://lh4.googleusercontent.com/-djDv8j7EUOg/AAAAAAAAAAI/AAAAAAAAAEs/s9Ds-tUarwE/s64/photo.jpg",
      "userId": "06728915078212315022"
     },
     "user_tz": -60
    },
    "id": "S52hBSnG5JRa",
    "outputId": "245005d0-83f9-4b2e-edac-a36c15b2a4c7"
   },
   "outputs": [
    {
     "name": "stdout",
     "output_type": "stream",
     "text": [
      "centered array:\n",
      " [[-0.43333333 -0.23333333]\n",
      " [ 0.46666667  0.06666667]\n",
      " [-0.13333333  0.26666667]]\n"
     ]
    }
   ],
   "source": [
    "# Centering our array.\n",
    "print('centered array:\\n', ar - np.mean(ar)) "
   ]
  },
  {
   "cell_type": "markdown",
   "metadata": {
    "colab_type": "text",
    "id": "mS5IDFrA6ig3"
   },
   "source": [
    "Note that `np.mean()` was a scalar, but it is automatically subtracted from every element.\n"
   ]
  },
  {
   "cell_type": "markdown",
   "metadata": {
    "colab_type": "text",
    "id": "KzlVmOY_FPhQ"
   },
   "source": [
    "We can write the minimum function ourselves, as well."
   ]
  },
  {
   "cell_type": "code",
   "execution_count": 18,
   "metadata": {
    "colab": {
     "base_uri": "https://localhost:8080/",
     "height": 68
    },
    "colab_type": "code",
    "executionInfo": {
     "elapsed": 460,
     "status": "ok",
     "timestamp": 1561448498054,
     "user": {
      "displayName": "David Szepesvari",
      "photoUrl": "https://lh4.googleusercontent.com/-djDv8j7EUOg/AAAAAAAAAAI/AAAAAAAAAEs/s9Ds-tUarwE/s64/photo.jpg",
      "userId": "06728915078212315022"
     },
     "user_tz": -60
    },
    "id": "zatGgBsOFNdF",
    "outputId": "5d2d6b46-1a45-4624-9df5-0c8e4d5b1fe0"
   },
   "outputs": [
    {
     "data": {
      "text/plain": [
       "array([[0. , 0.2],\n",
       "       [0.6, 0.5],\n",
       "       [0.3, 0.6]])"
      ]
     },
     "execution_count": 18,
     "metadata": {
      "tags": []
     },
     "output_type": "execute_result"
    }
   ],
   "source": [
    "clipped_ar = ar.copy()  # So that ar is not modified.\n",
    "clipped_ar[clipped_ar > 0.6] = 0.6\n",
    "clipped_ar"
   ]
  },
  {
   "cell_type": "markdown",
   "metadata": {
    "colab_type": "text",
    "id": "SnDqUDgtFyF5"
   },
   "source": [
    "A few things happened here:\n",
    "\n",
    "1. 0.6 was broadcast in for the greater than (>) operation\n",
    "2. The greater than operation defined a selector, selecting a subset of the elements of the array\n",
    "3. 0.6 was broadcast to the right number of elements for assignment."
   ]
  },
  {
   "cell_type": "markdown",
   "metadata": {
    "colab_type": "text",
    "id": "QzLtiYXUFN5P"
   },
   "source": [
    "Vectors may also be broadcast into matrices."
   ]
  },
  {
   "cell_type": "code",
   "execution_count": 19,
   "metadata": {
    "colab": {
     "base_uri": "https://localhost:8080/",
     "height": 68
    },
    "colab_type": "code",
    "executionInfo": {
     "elapsed": 552,
     "status": "ok",
     "timestamp": 1561448503077,
     "user": {
      "displayName": "David Szepesvari",
      "photoUrl": "https://lh4.googleusercontent.com/-djDv8j7EUOg/AAAAAAAAAAI/AAAAAAAAAEs/s9Ds-tUarwE/s64/photo.jpg",
      "userId": "06728915078212315022"
     },
     "user_tz": -60
    },
    "id": "n2gv3YVf5JZL",
    "outputId": "f3064b04-a82e-490c-b41e-62dae7d68ad1"
   },
   "outputs": [
    {
     "data": {
      "text/plain": [
       "array([[1. , 2.2],\n",
       "       [1.9, 2.5],\n",
       "       [1.3, 2.7]])"
      ]
     },
     "execution_count": 19,
     "metadata": {
      "tags": []
     },
     "output_type": "execute_result"
    }
   ],
   "source": [
    "vec = np.array([1, 2])\n",
    "ar + vec"
   ]
  },
  {
   "cell_type": "markdown",
   "metadata": {
    "colab_type": "text",
    "id": "7ehzlV8J75ar"
   },
   "source": [
    "Here the shapes of the involved arrays are:\n",
    "```\n",
    "ar     (2d array):  2 x 2\n",
    "vec    (1d array):      2\n",
    "Result (2d array):  2 x 2\n",
    "```\n",
    "\n",
    "When either of the dimensions compared is one (even implicitly, like in the case of `vec`), the other is used. In other words, dimensions with size 1 are stretched or “copied” to match the other.\n",
    "\n",
    "Here, this meant that the `[1, 2]` row was repeated to match the number of rows in `ar`, then added together.\n"
   ]
  },
  {
   "cell_type": "markdown",
   "metadata": {
    "colab_type": "text",
    "id": "bBLjzt84A2ZL"
   },
   "source": [
    "If there is a shape mismatch, you will be informed. To try, uncomment the line below and run it."
   ]
  },
  {
   "cell_type": "code",
   "execution_count": 0,
   "metadata": {
    "colab": {},
    "colab_type": "code",
    "id": "sViqTRjXAWhN"
   },
   "outputs": [],
   "source": [
    "#ar + np.array([[1, 2, 3]])"
   ]
  },
  {
   "cell_type": "markdown",
   "metadata": {
    "colab_type": "text",
    "id": "K4pvND75AWuG"
   },
   "source": [
    "#### Exercise\n",
    "\n",
    "Broadcast and add the vector `[10, 20, 30]` across the columns of `ar`. \n",
    "\n",
    "You should get \n",
    "```\n",
    "array([[10. , 10.2],\n",
    "       [20.9, 20.5],\n",
    "       [30.3, 30.7]])\n",
    " ```\n"
   ]
  },
  {
   "cell_type": "code",
   "execution_count": 0,
   "metadata": {
    "colab": {},
    "colab_type": "code",
    "id": "AgnJiYHm_ENT"
   },
   "outputs": [],
   "source": [
    "#@title Code\n",
    "\n",
    "# Recall that you can use vec.shape to verify that your array has the\n",
    "# shape you expect.\n",
    "\n",
    "### Your code here ###"
   ]
  },
  {
   "cell_type": "code",
   "execution_count": 0,
   "metadata": {
    "cellView": "form",
    "colab": {
     "height": 71
    },
    "colab_type": "code",
    "id": "gS1X9kt6_pLW",
    "outputId": "fd0e55dd-2c98-4bb5-e3ee-8bb82bf7b0fc"
   },
   "outputs": [
    {
     "data": {
      "text/plain": [
       "array([[ 10. ,  10.2],\n",
       "       [ 20.9,  20.5],\n",
       "       [ 30.3,  30.7]])"
      ]
     },
     "execution_count": 25,
     "metadata": {
      "tags": []
     },
     "output_type": "execute_result"
    }
   ],
   "source": [
    "#@title Solution\n",
    "\n",
    "vec = np.array([[10], [20], [30]])\n",
    "ar + vec"
   ]
  },
  {
   "cell_type": "markdown",
   "metadata": {
    "colab_type": "text",
    "id": "ZHGWztEX99vd"
   },
   "source": [
    "### `np.newaxis`\n",
    "\n",
    "We can use another numpy feature, `np.newaxis` to simply form the column vector that was required for the example above. It adds a singleton dimension to arrays at the desired location:"
   ]
  },
  {
   "cell_type": "code",
   "execution_count": 0,
   "metadata": {
    "colab": {
     "height": 35
    },
    "colab_type": "code",
    "id": "ac9tsc4e5JhA",
    "outputId": "0d3ee092-3142-444a-abcc-1addfe0b06ff"
   },
   "outputs": [
    {
     "data": {
      "text/plain": [
       "(2,)"
      ]
     },
     "execution_count": 26,
     "metadata": {
      "tags": []
     },
     "output_type": "execute_result"
    }
   ],
   "source": [
    "vec = np.array([1, 2])\n",
    "vec.shape"
   ]
  },
  {
   "cell_type": "code",
   "execution_count": 0,
   "metadata": {
    "colab": {
     "height": 35
    },
    "colab_type": "code",
    "id": "WpG-B92VCNAL",
    "outputId": "a5a0341b-5b81-4f74-f161-0fa14a0844ae"
   },
   "outputs": [
    {
     "data": {
      "text/plain": [
       "(1, 2)"
      ]
     },
     "execution_count": 27,
     "metadata": {
      "tags": []
     },
     "output_type": "execute_result"
    }
   ],
   "source": [
    "vec[np.newaxis, :].shape"
   ]
  },
  {
   "cell_type": "code",
   "execution_count": 0,
   "metadata": {
    "colab": {
     "height": 35
    },
    "colab_type": "code",
    "id": "YdbrkV1OCz8V",
    "outputId": "f86fdf30-1158-4c5c-9d08-421dca4d3c76"
   },
   "outputs": [
    {
     "data": {
      "text/plain": [
       "(2, 1)"
      ]
     },
     "execution_count": 28,
     "metadata": {
      "tags": []
     },
     "output_type": "execute_result"
    }
   ],
   "source": [
    "vec[:, np.newaxis].shape"
   ]
  },
  {
   "cell_type": "markdown",
   "metadata": {
    "colab_type": "text",
    "id": "KQZcrYaJxOOR"
   },
   "source": [
    "Now you know more than enough to generate some example data for our `NXOR` function.\n",
    "\n",
    "\n",
    "### Exercise: Generate Data for NXOR\n",
    "\n",
    "Write a function `get_data(num_examples)` that returns two numpy arrays\n",
    "\n",
    "* `inputs` of shape  `num_examples x 2` with points selected uniformly from the $[-1, 1]^2$ domain.\n",
    "* `labels` of shape `num_examples` with the associated output of `NXOR`."
   ]
  },
  {
   "cell_type": "code",
   "execution_count": 0,
   "metadata": {
    "cellView": "both",
    "colab": {},
    "colab_type": "code",
    "id": "SlZD-vcTVv-t"
   },
   "outputs": [],
   "source": [
    "#@title Code\n",
    "\n",
    "def get_data(num_examples):\n",
    "  # Replace with your code.\n",
    "  return np.zeros((num_examples, 2)), np.zeros((num_examples))\n"
   ]
  },
  {
   "cell_type": "code",
   "execution_count": 0,
   "metadata": {
    "cellView": "form",
    "colab": {},
    "colab_type": "code",
    "id": "JWHBltJ7fimG"
   },
   "outputs": [],
   "source": [
    "#@title Solution\n",
    "\n",
    "# Solution 1.\n",
    "def get_data(num_examples):\n",
    "  inputs = 2*np.random.random((num_examples, 2)) - 1\n",
    "  labels = np.prod(inputs, axis=1)\n",
    "  labels[labels <= 0] = -1 \n",
    "  labels[labels > 0] = 1 \n",
    "  return inputs, labels\n",
    "\n",
    "# Solution 1.\n",
    "# def get_data(num_examples):\n",
    "#   inputs = 2*np.random.random((num_examples, 2)) - 1\n",
    "#   labels = np.sign(np.prod(inputs, axis=1))\n",
    "#   labels[labels == 0] = -1 \n",
    "#   return inputs, labels\n"
   ]
  },
  {
   "cell_type": "code",
   "execution_count": 0,
   "metadata": {
    "colab": {
     "height": 89
    },
    "colab_type": "code",
    "id": "8HhjadmmvZyc",
    "outputId": "d0cf93b7-3136-4e77-cbfa-004118f7e6c0"
   },
   "outputs": [
    {
     "data": {
      "text/plain": [
       "(array([[ 0.08875228,  0.85639209],\n",
       "        [ 0.52213802,  0.48106992],\n",
       "        [-0.53564626, -0.99373936],\n",
       "        [-0.90605549, -0.02954708]]), array([ 1.,  1.,  1.,  1.]))"
      ]
     },
     "execution_count": 33,
     "metadata": {
      "tags": []
     },
     "output_type": "execute_result"
    }
   ],
   "source": [
    "get_data(4)"
   ]
  },
  {
   "cell_type": "markdown",
   "metadata": {
    "colab_type": "text",
    "id": "IQ0Ip-SVb3Nc"
   },
   "source": [
    "## That's all, folks!\n",
    "\n",
    "For now."
   ]
  },
  {
   "cell_type": "code",
   "execution_count": 0,
   "metadata": {
    "colab": {},
    "colab_type": "code",
    "id": "_tp8wOIpcJ9Y"
   },
   "outputs": [],
   "source": []
  }
 ],
 "metadata": {
  "colab": {
   "collapsed_sections": [],
   "name": "Intro_Numpy.ipynb",
   "provenance": [],
   "toc_visible": true,
   "version": "0.3.2"
  },
  "kernelspec": {
   "display_name": "Python 3",
   "language": "python",
   "name": "python3"
  },
  "language_info": {
   "codemirror_mode": {
    "name": "ipython",
    "version": 3
   },
   "file_extension": ".py",
   "mimetype": "text/x-python",
   "name": "python",
   "nbconvert_exporter": "python",
   "pygments_lexer": "ipython3",
   "version": "3.6.8"
  }
 },
 "nbformat": 4,
 "nbformat_minor": 1
}

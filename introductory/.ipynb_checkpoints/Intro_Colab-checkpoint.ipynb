{
 "cells": [
  {
   "cell_type": "markdown",
   "metadata": {
    "colab_type": "text",
    "id": "IBAupUTp-1ao"
   },
   "source": [
    "# What is a colab?\n",
    "\n",
    "[Colaboratory](https://colab.sandbox.google.com/notebooks/welcome.ipynb) is a [Jupyter](http://jupyter.org/) notebook environment that requires no setup to use. It allows you to create and share documents that contain\n",
    "\n",
    "* Live, runnable code\n",
    "* Visualizations\n",
    "* Explanatory text\n",
    "\n",
    "It's also a great tool for prototyping and quick development. Let's give it a try. "
   ]
  },
  {
   "cell_type": "markdown",
   "metadata": {
    "colab_type": "text",
    "id": "Cg9or9RcAG0-"
   },
   "source": [
    "Run the following so-called *(Code) Cell* by moving the cursor into it, and either\n",
    "\n",
    "* Pressing the \"play\" icon on the left of the cell, or\n",
    "* Hitting **`Shift + Enter`**."
   ]
  },
  {
   "cell_type": "code",
   "execution_count": 1,
   "metadata": {
    "colab": {
     "base_uri": "https://localhost:8080/",
     "height": 34
    },
    "colab_type": "code",
    "executionInfo": {
     "elapsed": 435,
     "status": "ok",
     "timestamp": 1561448128474,
     "user": {
      "displayName": "David Szepesvari",
      "photoUrl": "https://lh4.googleusercontent.com/-djDv8j7EUOg/AAAAAAAAAAI/AAAAAAAAAEs/s9Ds-tUarwE/s64/photo.jpg",
      "userId": "06728915078212315022"
     },
     "user_tz": -60
    },
    "id": "qyNrs_gC-2JU",
    "outputId": "f4852c6f-2f4b-43b1-c82d-6894d82ebaa3"
   },
   "outputs": [
    {
     "name": "stdout",
     "output_type": "stream",
     "text": [
      "Hello, EEML!\n"
     ]
    }
   ],
   "source": [
    "print('Hello, EEML!')"
   ]
  },
  {
   "cell_type": "markdown",
   "metadata": {
    "colab_type": "text",
    "id": "8RGeFACL-2Ps"
   },
   "source": [
    "You should see the `Hello, EEML!` printed under the code."
   ]
  },
  {
   "cell_type": "markdown",
   "metadata": {
    "colab_type": "text",
    "id": "7UwtwzObZbKt"
   },
   "source": [
    "Code is executed in a virtual machine dedicated to your account, with the results sent back to your browser. This has some positive and negative consequences:\n"
   ]
  },
  {
   "cell_type": "markdown",
   "metadata": {
    "colab_type": "text",
    "id": "-iBdZmzvbPAh"
   },
   "source": [
    "### Using a GPU\n",
    "\n",
    "You can connect to a virtual machine with a GPU. To select the hardware you want to use, follow either\n",
    "\n",
    "* **Edit > Notebook settings**, or\n",
    "* **Runtime > Change runtime type**\n",
    "\n",
    "and choose an accelerator.\n",
    "\n",
    "Note: you can choose between Python 2 and 3 in the same dialog box; these colabs were created for **Python 2**."
   ]
  },
  {
   "cell_type": "markdown",
   "metadata": {
    "colab_type": "text",
    "id": "zxRZTbjtbPco"
   },
   "source": [
    "### Losing Connection\n",
    "\n",
    "You may lose connection to your virtual machine. The two most common causes are\n",
    "\n",
    "* Virtual machines are recycled when idle for a while, and have a maximum lifetime enforced by the system.\n",
    "*  Long-running background computations, particularly on GPUs, may be stopped.\n",
    "\n",
    "**If you lose connection**, the state of your notebook will also be lost. You will need to **rerun all cells** up to the one you are currently working on. To do so\n",
    "\n",
    "1. Select (place the cursor into) the cell you are working on. \n",
    "2. Follow **Runtime > Run before**."
   ]
  },
  {
   "cell_type": "markdown",
   "metadata": {
    "colab_type": "text",
    "id": "T8fUvA8ibPlw"
   },
   "source": [
    "We now cover a few more basic things you should know about working with colabs."
   ]
  },
  {
   "cell_type": "markdown",
   "metadata": {
    "colab_type": "text",
    "id": "kUhiagDUC28G"
   },
   "source": [
    "### Pretty Printing by colab\n",
    "1) If the **last operation** of a given cell returns a value, it will be pretty printed by colab.\n"
   ]
  },
  {
   "cell_type": "code",
   "execution_count": 0,
   "metadata": {
    "colab": {
     "base_uri": "https://localhost:8080/",
     "height": 34
    },
    "colab_type": "code",
    "executionInfo": {
     "elapsed": 472,
     "status": "ok",
     "timestamp": 1561448178425,
     "user": {
      "displayName": "David Szepesvari",
      "photoUrl": "https://lh4.googleusercontent.com/-djDv8j7EUOg/AAAAAAAAAAI/AAAAAAAAAEs/s9Ds-tUarwE/s64/photo.jpg",
      "userId": "06728915078212315022"
     },
     "user_tz": -60
    },
    "id": "Hz9y44oYDpXI",
    "outputId": "d410083d-74f9-4ec2-f511-e2a467787bc5",
    "scrolled": true
   },
   "outputs": [
    {
     "data": {
      "text/plain": [
       "42"
      ]
     },
     "execution_count": 3,
     "metadata": {
      "tags": []
     },
     "output_type": "execute_result"
    }
   ],
   "source": [
    "6 * 7"
   ]
  },
  {
   "cell_type": "code",
   "execution_count": 0,
   "metadata": {
    "colab": {},
    "colab_type": "code",
    "id": "YqgK5BvLFaU3"
   },
   "outputs": [],
   "source": [
    "my_dict = {'one': 1, 'some set': {4, 2, 2}, 'a regular list': range(5)}"
   ]
  },
  {
   "cell_type": "markdown",
   "metadata": {
    "colab_type": "text",
    "id": "1Rqgt29CFb4J"
   },
   "source": [
    "There is no output from the second cell, as assignment does not return anything."
   ]
  },
  {
   "cell_type": "markdown",
   "metadata": {
    "colab_type": "text",
    "id": "ZgekhVgsC3Bu"
   },
   "source": [
    "2) You can explicitly **print** anything before the last operation, or **supress** the output of the last operation by adding a semicolon."
   ]
  },
  {
   "cell_type": "code",
   "execution_count": 0,
   "metadata": {
    "colab": {
     "base_uri": "https://localhost:8080/",
     "height": 34
    },
    "colab_type": "code",
    "executionInfo": {
     "elapsed": 464,
     "status": "ok",
     "timestamp": 1561448206408,
     "user": {
      "displayName": "David Szepesvari",
      "photoUrl": "https://lh4.googleusercontent.com/-djDv8j7EUOg/AAAAAAAAAAI/AAAAAAAAAEs/s9Ds-tUarwE/s64/photo.jpg",
      "userId": "06728915078212315022"
     },
     "user_tz": -60
    },
    "id": "7VKvo7dvDxBy",
    "outputId": "40572c32-97b8-4a8f-8031-818e929babfd"
   },
   "outputs": [
    {
     "name": "stdout",
     "output_type": "stream",
     "text": [
      "{'one': 1, 'some set': {2, 4}, 'a regular list': range(0, 5)}\n"
     ]
    }
   ],
   "source": [
    "print(my_dict)\n",
    "my_dict['one'] * 10 + 1;"
   ]
  },
  {
   "cell_type": "markdown",
   "metadata": {
    "colab_type": "text",
    "id": "z2cu-vPJJL2o"
   },
   "source": [
    "### Scoping and Execution Model"
   ]
  },
  {
   "cell_type": "markdown",
   "metadata": {
    "colab_type": "text",
    "id": "nKnGjUJvI5Gg"
   },
   "source": [
    "Notice that in the previous code cell we worked with `my_dict`, while it was defined in an even earlier cell.\n",
    "\n",
    "1) In colabs, variables defined at cell root have **global** scope.\n",
    "\n",
    "Modify `my_dict`:"
   ]
  },
  {
   "cell_type": "code",
   "execution_count": 0,
   "metadata": {
    "colab": {},
    "colab_type": "code",
    "id": "XETX0TevKW_h"
   },
   "outputs": [],
   "source": [
    "my_dict['I\\'ve been changed!'] = True"
   ]
  },
  {
   "cell_type": "markdown",
   "metadata": {
    "colab_type": "text",
    "id": "FMPTBE_HDxIH"
   },
   "source": [
    "2) Cells can be **run** in any **arbitrary order**, and global state is maintained between them.\n",
    "\n",
    "Try re-running the cell where we printed `my_dict`. You should see now  see the additional item `\"I've been changed!\": True`.\n"
   ]
  },
  {
   "cell_type": "markdown",
   "metadata": {
    "colab_type": "text",
    "id": "wiNYzBdyLimN"
   },
   "source": [
    "3) Unintentionally reusing a global variable can lead to bugs. If all else fails, you can uncomment and run the following line to **clear all global variables**."
   ]
  },
  {
   "cell_type": "code",
   "execution_count": 0,
   "metadata": {
    "colab": {},
    "colab_type": "code",
    "id": "_iO10nIILkqs"
   },
   "outputs": [],
   "source": [
    "# %reset -f"
   ]
  },
  {
   "cell_type": "markdown",
   "metadata": {
    "colab_type": "text",
    "id": "vIVCsaGYMj1k"
   },
   "source": [
    "You will have to re-run the setup cells after."
   ]
  },
  {
   "cell_type": "markdown",
   "metadata": {
    "colab_type": "text",
    "id": "qXw6vbMpFtFF"
   },
   "source": [
    "### Autocomplete / Documentation\n",
    "\n",
    "* Press *`<TAB>`* after typing a prefix will show the available variables / commands.\n",
    "* Press *`<TAB>`* on a function parameter list will show the function documentation.\n",
    "\n",
    "Note: this only works for variables that are already been defined (not while you are writing your code)."
   ]
  },
  {
   "cell_type": "code",
   "execution_count": 0,
   "metadata": {
    "colab": {},
    "colab_type": "code",
    "id": "hwwF9RtoGMl4"
   },
   "outputs": [],
   "source": [
    "direction_a, direction_b = ['UP', 'DOWN']"
   ]
  },
  {
   "cell_type": "markdown",
   "metadata": {
    "colab_type": "text",
    "id": "_6WGj-j5UQ6k"
   },
   "source": [
    "Hit after '**dir**'."
   ]
  },
  {
   "cell_type": "code",
   "execution_count": 0,
   "metadata": {
    "colab": {},
    "colab_type": "code",
    "id": "i_mDqlgP9HjT"
   },
   "outputs": [],
   "source": [
    "# dir"
   ]
  },
  {
   "cell_type": "markdown",
   "metadata": {
    "colab_type": "text",
    "id": "Rqy-TemM4fki"
   },
   "source": [
    "Hit after **`print(`**."
   ]
  },
  {
   "cell_type": "code",
   "execution_count": 0,
   "metadata": {
    "colab": {},
    "colab_type": "code",
    "id": "88NbgSBsVKeM"
   },
   "outputs": [],
   "source": [
    "# print("
   ]
  },
  {
   "cell_type": "markdown",
   "metadata": {
    "colab_type": "text",
    "id": "xUAFxf1uVkam"
   },
   "source": [
    "Alternatively, the question mark (**?**) works as a special character which gives us information about variables and functions. In this case you need to run the cell.\n",
    "\n"
   ]
  },
  {
   "cell_type": "code",
   "execution_count": 0,
   "metadata": {
    "colab": {},
    "colab_type": "code",
    "id": "h0nEx_NUVXbv"
   },
   "outputs": [],
   "source": [
    "range?"
   ]
  },
  {
   "cell_type": "markdown",
   "metadata": {
    "colab_type": "text",
    "id": "6B17wzOd8S3D"
   },
   "source": [
    "### Shortcuts\n",
    "\n",
    "The 4 most useful colab-specific shortcuts are:\n",
    "\n",
    "* `Ctrl+/` which toggles comments. Can be applied across multiple lines. Try below.\n",
    "* `Ctrl+M b` which creates a new code cell below the current one, placing the cursor in it.\n",
    "* `Ctrl+M -` which splits the current cell into 2 at the location of the cursor.\n",
    "* `Ctrl+M d` which deletes the current cell.\n",
    "\n",
    "There is of course a search and replace functionality as well.\n",
    "\n"
   ]
  },
  {
   "cell_type": "code",
   "execution_count": 0,
   "metadata": {
    "colab": {},
    "colab_type": "code",
    "id": "PJon8nGv8TM4"
   },
   "outputs": [],
   "source": [
    "# print('comment')\n",
    "# print('me')\n",
    "# print('out')\n",
    "# print('in one go')"
   ]
  },
  {
   "cell_type": "markdown",
   "metadata": {
    "colab_type": "text",
    "id": "dUTBihZIYC32"
   },
   "source": [
    "### Setup and Imports\n",
    "\n",
    "Python packages can and need to be imported into your colab notebook, the same way you would import them in a python script. For example, to use `numpy`, you would do"
   ]
  },
  {
   "cell_type": "code",
   "execution_count": 0,
   "metadata": {
    "colab": {},
    "colab_type": "code",
    "id": "Rhk-7l_dYExv"
   },
   "outputs": [],
   "source": [
    "#import numpy as np"
   ]
  },
  {
   "cell_type": "markdown",
   "metadata": {
    "colab_type": "text",
    "id": "fQE00MVwYfej"
   },
   "source": [
    "While many packages (all packages that you will need!) can just be imported, some (e.g. `sonnet`) may not immediately be available. With colab, you can install any python package from `pip` for the duration of your connection."
   ]
  },
  {
   "cell_type": "code",
   "execution_count": 0,
   "metadata": {
    "colab": {},
    "colab_type": "code",
    "id": "yfP92hNwYfqv"
   },
   "outputs": [],
   "source": [
    "#!pip install dm-sonnet"
   ]
  },
  {
   "cell_type": "markdown",
   "metadata": {
    "colab_type": "text",
    "id": "YUQ8oIhHfgYp"
   },
   "source": [
    "You would, then, be able to `import sonnet as snt` as usual."
   ]
  },
  {
   "cell_type": "markdown",
   "metadata": {
    "colab_type": "text",
    "id": "qCIXC0D6_VEm"
   },
   "source": [
    "Notice that we ran the shell command `pip` above. You can run any shell command by starting with `!`.\n",
    "\n",
    "We will not use this, but here is an example below, and you can read more [here](https://colab.research.google.com/github/jakevdp/PythonDataScienceHandbook/blob/master/notebooks/01.05-IPython-And-Shell-Commands.ipynb#scrollTo=Tts2ysMs-xIz)."
   ]
  },
  {
   "cell_type": "code",
   "execution_count": 3,
   "metadata": {
    "colab": {
     "base_uri": "https://localhost:8080/",
     "height": 68
    },
    "colab_type": "code",
    "executionInfo": {
     "elapsed": 4956,
     "status": "ok",
     "timestamp": 1561623291226,
     "user": {
      "displayName": "David Szepesvari",
      "photoUrl": "https://lh4.googleusercontent.com/-djDv8j7EUOg/AAAAAAAAAAI/AAAAAAAAAEs/s9Ds-tUarwE/s64/photo.jpg",
      "userId": "06728915078212315022"
     },
     "user_tz": -60
    },
    "id": "8iCFyEUP_jpX",
    "outputId": "9a4df8a3-26b4-4ed2-ace2-5950bbdb50a9"
   },
   "outputs": [
    {
     "name": "stdout",
     "output_type": "stream",
     "text": [
      "sample_data  test\n",
      "mkdir: cannot create directory ‘test’: File exists\n",
      "['sample_data  test']\n"
     ]
    }
   ],
   "source": [
    "!ls\n",
    "!mkdir {\"test\"}\n",
    "contents = !ls\n",
    "print(contents)"
   ]
  },
  {
   "cell_type": "markdown",
   "metadata": {
    "colab_type": "text",
    "id": "pWAjydYTuVUz"
   },
   "source": [
    "### Debugging\n",
    "\n",
    "You can debug code in cells with `pdb`. Either\n",
    "\n",
    "* Add `%%debug` as the first line, on its own to start in `ipdb`.\n",
    "* Add `import pdb; pdb.set_trace()` on a line to pause execution there.\n",
    "\n",
    "Note that `ipdb` has more features and so may be preferred. However, `import ipdb` does not work here. "
   ]
  },
  {
   "cell_type": "code",
   "execution_count": 0,
   "metadata": {
    "colab": {
     "base_uri": "https://localhost:8080/",
     "height": 85
    },
    "colab_type": "code",
    "executionInfo": {
     "elapsed": 13172,
     "status": "ok",
     "timestamp": 1561448385012,
     "user": {
      "displayName": "David Szepesvari",
      "photoUrl": "https://lh4.googleusercontent.com/-djDv8j7EUOg/AAAAAAAAAAI/AAAAAAAAAEs/s9Ds-tUarwE/s64/photo.jpg",
      "userId": "06728915078212315022"
     },
     "user_tz": -60
    },
    "id": "nP2hlEE7ub-9",
    "outputId": "691a0358-30d2-41b7-8c71-6f79b0158402"
   },
   "outputs": [
    {
     "name": "stdout",
     "output_type": "stream",
     "text": [
      "NOTE: Enter 'c' at the ipdb>  prompt to continue execution.\n",
      "> \u001b[0;32m<string>\u001b[0m(2)\u001b[0;36m<module>\u001b[0;34m()\u001b[0m\n",
      "\n",
      "ipdb> exit\n"
     ]
    }
   ],
   "source": [
    "%%debug\n",
    "print('Let me get started.')\n",
    "message = 'We are almost done.'\n",
    "# import pdb; pdb.set_trace()\n",
    "print('You can see the global variables, step through code, etc.')"
   ]
  },
  {
   "cell_type": "markdown",
   "metadata": {
    "colab_type": "text",
    "id": "tiSKbgPe9hqI"
   },
   "source": [
    "### Forms\n",
    "\n",
    "With colab it is easy to take input from the user in code cells through so called forms. A simplest example is shown below."
   ]
  },
  {
   "cell_type": "code",
   "execution_count": 5,
   "metadata": {
    "colab": {
     "base_uri": "https://localhost:8080/",
     "height": 34
    },
    "colab_type": "code",
    "executionInfo": {
     "elapsed": 433,
     "status": "ok",
     "timestamp": 1561623448049,
     "user": {
      "displayName": "David Szepesvari",
      "photoUrl": "https://lh4.googleusercontent.com/-djDv8j7EUOg/AAAAAAAAAAI/AAAAAAAAAEs/s9Ds-tUarwE/s64/photo.jpg",
      "userId": "06728915078212315022"
     },
     "user_tz": -60
    },
    "id": "Gu30itgd97l7",
    "outputId": "2d1b8791-9ccc-428a-db25-09579807db90"
   },
   "outputs": [
    {
     "name": "stdout",
     "output_type": "stream",
     "text": [
      "a+b = 5\n"
     ]
    }
   ],
   "source": [
    "#@title This text shows up as a title.\n",
    "\n",
    "a = 2  #@param {type: 'integer'}\n",
    "b = 3  #@param\n",
    "\n",
    "print('a+b =', str(a+b))"
   ]
  },
  {
   "cell_type": "markdown",
   "metadata": {
    "colab_type": "text",
    "id": "_-w9fM9BcUBS"
   },
   "source": [
    "You can change parameters on the right hand side, then rerun the cell to use these values. **Try setting the value of a=5 and rerun the cell above.**\n",
    "\n",
    "In order to expose a variable as parameter you just add `#@param` after it. There are various knds of params, if you're interested you can read more about this on the official starting colab.\n"
   ]
  },
  {
   "cell_type": "markdown",
   "metadata": {
    "colab_type": "text",
    "id": "XdQo7XSl-4wm"
   },
   "source": [
    "\n",
    "Cells with forms allow you to toggle whether\n",
    "\n",
    "* the code,\n",
    "* the form,\n",
    "* or both\n",
    "\n",
    "are visible.\n",
    "\n",
    "**Try switching between these 3 options for the above cell.** This is how you do this:\n",
    "\n",
    "1. Click anywhere over the area of the cell with the form to highlight it.\n",
    "2. Click on the \"three vertically arranged dots\" icong in the top right of the cell.\n",
    "3. Go to \"Form >\", select your desired action."
   ]
  },
  {
   "cell_type": "markdown",
   "metadata": {
    "colab_type": "text",
    "id": "SZKTwLixhlc5"
   },
   "source": [
    "### Exercise: write a decoder for a text encoder\n",
    "\n",
    "We defined a (very) simple text encoding function. Your job is to write the corresponding decoder, so that **`text == decoder(encoder(text))`**.\n"
   ]
  },
  {
   "cell_type": "code",
   "execution_count": 0,
   "metadata": {
    "colab": {},
    "colab_type": "code",
    "id": "dJrw_uFKhqCh"
   },
   "outputs": [],
   "source": [
    "#@title Code\n",
    "laws = \"\"\"\n",
    "1. A robot may not injure a human being or, through inaction, allow a human being to come to harm.\n",
    "2. A robot must obey orders given it by human beings except where such orders would conflict with the First Law.\n",
    "3. A robot must protect its own existence as long as such protection does not conflict with the First or Second Law.\n",
    "\"\"\"\n",
    "\n",
    "\n",
    "def encode(plain_text):\n",
    "  new_letters = [chr(ord(letter)+1) for letter in plain_text]\n",
    "  return ''.join(new_letters)\n",
    "  \n",
    "\n",
    "def decode(encoded_text):\n",
    "  ### Your Code Here ###\n",
    "  return decoded_text\n",
    "\n"
   ]
  },
  {
   "cell_type": "code",
   "execution_count": 0,
   "metadata": {
    "cellView": "form",
    "colab": {},
    "colab_type": "code",
    "id": "odNeTetkrS2x"
   },
   "outputs": [],
   "source": [
    "#@title Solution\n",
    "\n",
    "def encode(plain_text):\n",
    "  new_letters = [chr(ord(letter)+1) for letter in plain_text]\n",
    "  return ''.join(new_letters)\n",
    "  \n",
    "\n",
    "def decode(encoded_text):\n",
    "  new_letters = [chr(ord(letter)-1) for letter in encoded_text]\n",
    "  return ''.join(new_letters)\n"
   ]
  },
  {
   "cell_type": "code",
   "execution_count": 0,
   "metadata": {
    "cellView": "form",
    "colab": {
     "height": 217
    },
    "colab_type": "code",
    "id": "4X3bhmgLolXZ",
    "outputId": "42bd6cd7-4ea1-45fb-c8aa-c394c99ba541"
   },
   "outputs": [
    {
     "name": "stdout",
     "output_type": "stream",
     "text": [
      "The encoded text:\n",
      "\u000b",
      "2/!B!spcpu!nbz!opu!jokvsf!b!ivnbo!cfjoh!ps-!uispvhi!jobdujpo-!bmmpx!b!ivnbo!cfjoh!up!dpnf!up!ibsn/\u000b",
      "3/!B!spcpu!nvtu!pcfz!psefst!hjwfo!ju!cz!ivnbo!cfjoht!fydfqu!xifsf!tvdi!psefst!xpvme!dpogmjdu!xjui!uif!Gjstu!Mbx/\u000b",
      "4/!B!spcpu!nvtu!qspufdu!jut!pxo!fyjtufodf!bt!mpoh!bt!tvdi!qspufdujpo!epft!opu!dpogmjdu!xjui!uif!Gjstu!ps!Tfdpoe!Mbx/\u000b",
      "\n",
      "()\n",
      "The decoded text:\n",
      "\n",
      "1. A robot may not injure a human being or, through inaction, allow a human being to come to harm.\n",
      "2. A robot must obey orders given it by human beings except where such orders would conflict with the First Law.\n",
      "3. A robot must protect its own existence as long as such protection does not conflict with the First or Second Law.\n",
      "\n",
      "Great!\n"
     ]
    }
   ],
   "source": [
    "#@title Basic Test\n",
    "\n",
    "encoded_text = encode(laws)\n",
    "print('The encoded text:')\n",
    "print(encoded_text)\n",
    "assert encoded_text != laws, (\n",
    "    'The encoded text should be different from the original')\n",
    "print()\n",
    "\n",
    "decoded_text = decode(encoded_text)\n",
    "print('The decoded text:')\n",
    "print(decoded_text)\n",
    "assert decoded_text == laws, (\n",
    "    'The decoded text should be the same as the original')\n",
    "\n",
    "print('Great!')"
   ]
  },
  {
   "cell_type": "markdown",
   "metadata": {
    "colab_type": "text",
    "id": "B6g2I-twVvp5"
   },
   "source": [
    "### Some additional tips\n",
    "\n",
    "* You can access an outline of the colab by clicking the arrow on the right hand side.\n",
    "* The [official colab landing colab](https://colab.sandbox.google.com/notebooks/welcome.ipynb) has some more examples and info as well."
   ]
  },
  {
   "cell_type": "code",
   "execution_count": 0,
   "metadata": {
    "colab": {},
    "colab_type": "code",
    "id": "mzzeLVKE_pZs"
   },
   "outputs": [],
   "source": []
  }
 ],
 "metadata": {
  "colab": {
   "collapsed_sections": [],
   "name": "Intro_Colab.ipynb",
   "provenance": [],
   "toc_visible": true,
   "version": "0.3.2"
  },
  "kernelspec": {
   "display_name": "Python 3",
   "language": "python",
   "name": "python3"
  },
  "language_info": {
   "codemirror_mode": {
    "name": "ipython",
    "version": 3
   },
   "file_extension": ".py",
   "mimetype": "text/x-python",
   "name": "python",
   "nbconvert_exporter": "python",
   "pygments_lexer": "ipython3",
   "version": "3.6.8"
  }
 },
 "nbformat": 4,
 "nbformat_minor": 1
}

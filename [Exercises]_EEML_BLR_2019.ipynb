{
  "nbformat": 4,
  "nbformat_minor": 0,
  "metadata": {
    "colab": {
      "name": "[Exercises] EEML - BLR 2019.ipynb",
      "version": "0.3.2",
      "provenance": [],
      "collapsed_sections": []
    },
    "kernelspec": {
      "name": "python2",
      "display_name": "Python 2"
    }
  },
  "cells": [
    {
      "cell_type": "markdown",
      "metadata": {
        "id": "qP69ddGg42Df",
        "colab_type": "text"
      },
      "source": [
        "# Bayesian Logistic Regression\n",
        "\n",
        "Contact: mihaelacr@google.com\n",
        "\n",
        "Aim of this colab:\n",
        "Logistic regression with a twist! We will use variational inference to learn a distribution over the learned parameters.\n",
        "\n",
        "Througout this work we will be focusing on a binary classification task, on \n",
        "a small dataset (the UCD breast cancer dataset). \n",
        "\n",
        "\n",
        "## Logistic regression\n",
        "\n",
        "Learn the weights which best classify the $(x, y)$ pairs in the dataset. \n",
        "The weights ($w$) and biases $b$, form the parameters which are learned via the following maximization problem:\n",
        "\n",
        "\\begin{equation}\n",
        "\\mathbb{E}_{p^*(x, y)} \\log p(y|x, \\theta) = \\\\\n",
        " \\mathbb{E}_{p^*(x, y)} \\left[y \\log \\sigma(w x + b) + (1 - y) \\log(1- \\sigma(w x + b)\\right] \n",
        "\\end{equation}\n",
        "\n",
        "Here $\\sigma$ denotes the sigmoid function.\n",
        "\n",
        "## Bayesian logistic regression - computing the evidence lower bound\n",
        "\n",
        "Learn a distribution over the weights which best classify the $(x, y)$ pairs in the dataset.\n",
        "\n",
        "We now want to learn the distributional parameters of $q(w)$ in order to maximize:\n",
        "\n",
        "\\begin{equation}\n",
        "\\mathbb{E}_{p^*(x, y)} \\log p_w(y| x) = \\\\\n",
        "\\mathbb{E}_{p^*(x, y)} \\log \\int p(y|x, w) p(w) \\delta w = \\\\\n",
        "\\mathbb{E}_{p^*(x, y)} \\log \\int p(y|x, w) p(w) \\frac{q(w)}{q(w)} \\delta w \\ge \\\\\n",
        "\\mathbb{E}_{p^*(x, y)} \\mathbb{E}_{q(w)} \\log \\left[p(y| x, w) \\frac{p(w)}{q(w)} \\right]= \\\\\n",
        "\\mathbb{E}_{q(w)} \\mathbb{E}_{p^*(x, y)} \\log p(y|x, w)  -  KL(q(w)||p(w)) = \\\\\n",
        " \\mathbb{E}_{q(w)}\\mathbb{E}_{p^*(x, y)} \\left[y \\log \\sigma(w x + b) + (1 - y) \\log(1- \\sigma(w x + b)\\right] -  KL(q(w)||p(w))\n",
        "\\end{equation}\n",
        "\n",
        "In Bayesian Logistic Regression, we thus learn a distribution over parameters\n",
        "$w$ which can explain the data, while staying close to a chosen prior $p(w)$.\n",
        "\n",
        "Throughout this lab, we will use Gaussian Distributions for $p(w)$ and $q(w)$.\n",
        "\n",
        "For more details, see \n",
        "[this paper](https://pdfs.semanticscholar.org/e407/ea7fda6d152d2186f4b5e27aa04ec2d32dcd.pdf) \n",
        "or this tutorial\n",
        "[https://www.ece.rice.edu/~vc3/elec633/logistic.pdf].\n",
        "\n",
        "### Gradient estimation\n",
        "\n",
        "In Bayesian Logistic Regression, we aim to learn the parameters of the distribution $q(w)$. We will call these parameters $\\theta$. In the case of a \n",
        "Gaussian distribution, these will be the mean and covariance matrix of a\n",
        "multivariate distribution. Since we will use stochastic gradient descent to learn $\\theta$, we need to be able to compute the gradients with respect to \n",
        "$\\theta$ of our objective. Since our objective contains an expectation with respect to $q(w)$, this can be challenging. To illustrate this, from now on we will denote $q(w)$ as $q_{\\theta}(w)$.\n",
        "\n",
        "Specifically, we are interested in:\n",
        "\\begin{equation}\n",
        "  \\nabla_{\\theta} \\left[\\mathbb{E}_{q_{\\theta}(w)} \\mathbb{E}_{p^*(x, y)} \\log p(y|x, w)  -  KL(q_{\\theta}(w)||p(w))\\right]\n",
        "\\end{equation}\n",
        "\n",
        "Since in we will be using Gaussian distributions for $q_{\\theta}(w)$ and $p(w)$ \n",
        "$KL(q_{\\theta}(w)||p(w))$ can be computed in closed form and we can rely on \n",
        "TensorFlow's automatic differentiation to compute \n",
        "$\\nabla_{\\theta} KL(q_{\\theta}(w)||p(w))$.\n",
        "\n",
        "Let's now turn attention to computing $\\nabla_{\\theta} \\mathbb{E}_{q_{\\theta}(w)} \\mathbb{E}_{p^*(x, y)} \\log p(y| x, w)$. Unlike the KL, the integral \n",
        "$\\mathbb{E}_{q_{\\theta}(w)} \\mathbb{E}_{p^*(x, y)} \\log p(y|x, w)$\n",
        "is not tractable, and thus cannot be computed in closed form. Thus, we are interested in other approaches to compute the gradient.\n",
        "\n",
        "### Reinforce gradient estimation\n",
        "\n",
        "A first approach to compute an estimate of the gradient is to use the\n",
        "REINFORCE gradient estimator:\n",
        "\n",
        "\\begin{equation}\n",
        "  \\nabla_{\\theta} \\mathbb{E}_{q_{\\theta}(w)} \\mathbb{E}_{p^*(x, y)} \\log p(y| x, w)  = \\\\\n",
        "  \\nabla_{\\theta} \\int q_{\\theta}(w) \\mathbb{E}_{p^*(x, y)} \\log p(y| x, w) \\delta w = \\\\\n",
        "  \\int \\nabla_{\\theta} \\left[q_{\\theta}(w) \\mathbb{E}_{p^*(x, y)} \\log p(y| x, w) \\right] \\delta w = \\\\\n",
        " \\int \\nabla_{\\theta} \\left[q_{\\theta}(w)\\right] \\mathbb{E}_{p^*(x, y)} \\log p(y| x, w) \\delta w = \\\\\n",
        " \\int q_{\\theta}(w) \\nabla_{\\theta} \\left[\\log q_{\\theta}(w)\\right] \\mathbb{E}_{p^*(x, y)} \\log p(y| x, w)  \\delta w = \\\\\n",
        " \\mathbb{E}_{q_{\\theta}(w)} \\left[ \\nabla_{\\theta} \\log q_{\\theta}(w) \\mathbb{E}_{p^*(x, y)} \\log p(y| x, w) \\right]\n",
        "\\end{equation}\n",
        "\n",
        "We can use samples from $q_{\\theta}(w)$ to compute the Monte Carlo estimate of\n",
        "the last integral, to get an unbiased estimator of the true gradient. The more \n",
        "samples we use to estimate the integral, the more accurate the gradient estimate\n",
        "will be.\n",
        "\n",
        "\n",
        "### Pathwise gradient estimation (reparametrization)\n",
        "\n",
        "In the REINFORCE estimator, we did not use any knowledge of the variational\n",
        "distribution $q_{\\theta}(w)$.\n",
        "For a Gaussian distribution, we can use the reparametrization trick to obtain\n",
        "an unbiased gradient estimator of  $\\nabla_{\\theta} \\mathbb{E}_{q_{\\theta}(w)} \\mathbb{E}_{p^*(x, y)} \\log p(y| x, w)$.\n",
        "\n",
        "To do so, we will use the fact that \n",
        "\\begin{equation}\n",
        "    z \\sim N(\\mu, \\sigma), z = \\mu + \\epsilon \\sigma, {\\text {with }} \\epsilon \\sim N(0, 1)\n",
        "\\end{equation}\n",
        "\n",
        "Namely:\n",
        "\\begin{equation}\n",
        "  \\nabla_{\\theta} \\mathbb{E}_{q_{\\theta}(w)} \\mathbb{E}_{p^*(x, y)} \\log p(y| x, w)  = \\\\\n",
        "  \\nabla_{\\theta} \\mathbb{E}_{p(\\epsilon)} \\mathbb{E}_{p^*(x, y)} \\log p(y| x, \\mu + \\epsilon \\sigma)  = \\\\\n",
        "  \\mathbb{E}_{p(\\epsilon)} \\nabla_{\\theta} \\mathbb{E}_{p^*(x, y)} \\log p(y| x, \\mu + \\epsilon \\sigma)\n",
        "\\end{equation}\n",
        "\n",
        "Note that we were able to move the gradient inside the integral since \n",
        "$p(\\epsilon)$ does not depend on $\\theta$.\n",
        "To estimate the last integral, we can use a Monte Carlo estimate using samples\n",
        "of $p(\\epsilon)$.\n"
      ]
    },
    {
      "cell_type": "markdown",
      "metadata": {
        "id": "8PxAlISU7AYV",
        "colab_type": "text"
      },
      "source": [
        "## Your tasks\n",
        "\n",
        "\n",
        "*   Define the Gaussian posterior distribution.\n",
        "*   Fill in the code for the ELBO\n",
        "*   Fill in the reinforce function to create the surrogate loss\n",
        "*   Fill in the loss function for reparametrization\n",
        "*   Visualize the effects of batch size, learning rates and number of posterior samples on the learned model, as well as gradient variance.\n",
        "\n"
      ]
    },
    {
      "cell_type": "code",
      "metadata": {
        "id": "FH8xRXJVy-be",
        "colab_type": "code",
        "colab": {}
      },
      "source": [
        "import enum\n",
        "import numpy as np\n",
        "\n",
        "import math\n",
        "from sklearn import datasets\n",
        "from sklearn import linear_model\n",
        "import collections\n",
        "\n",
        "from matplotlib import pyplot as plt\n",
        "import tensorflow as tf\n",
        "import tensorflow_probability as tfp\n",
        "import seaborn as sns\n",
        "\n",
        "tfd = tfp.distributions\n",
        "\n",
        "#ELBO je evidence lower bound.\n"
      ],
      "execution_count": 0,
      "outputs": []
    },
    {
      "cell_type": "code",
      "metadata": {
        "id": "JD97evxTyirI",
        "colab_type": "code",
        "colab": {}
      },
      "source": [
        "sns.set(rc={\"lines.linewidth\": 2.8}, font_scale=2)\n",
        "sns.set_style(\"whitegrid\")"
      ],
      "execution_count": 0,
      "outputs": []
    },
    {
      "cell_type": "markdown",
      "metadata": {
        "id": "WhV6gBY_zRzC",
        "colab_type": "text"
      },
      "source": [
        "## Get the dataset and visualize it"
      ]
    },
    {
      "cell_type": "code",
      "metadata": {
        "id": "dzrvgE3e4lX1",
        "colab_type": "code",
        "colab": {}
      },
      "source": [
        "def get_data(normalize = True):\n",
        "    data = datasets.load_breast_cancer()\n",
        "\n",
        "    print(data.target_names)\n",
        "    print(data.feature_names)\n",
        "\n",
        "    features = np.array(data.data, dtype=np.float32)\n",
        "    targets = np.array(data.target, dtype=np.float32)\n",
        "\n",
        "    if normalize:\n",
        "        # Note: the data dimensions have very different scales.\n",
        "        # We normalize by the mean and scale of the entire dataset.\n",
        "        features = features - features.mean(axis=0)\n",
        "        features = features / features.std(axis=0)\n",
        "\n",
        "    # Add a dimension of 1 (bias).\n",
        "    features = np.concatenate((features, np.ones((features.shape[0], 1))), axis=1)\n",
        "    features = np.array(features, dtype=np.float32)\n",
        "  \n",
        "    return features, targets, data.feature_names"
      ],
      "execution_count": 0,
      "outputs": []
    },
    {
      "cell_type": "markdown",
      "metadata": {
        "id": "44Jrompq1iTY",
        "colab_type": "text"
      },
      "source": [
        "### Dataset\n",
        "\n",
        "This datasets has meaningful features: we are trying to classify based on these features whether someone has breast cancer or not. We can look at the\n",
        "features we are using to classify the data below.\n"
      ]
    },
    {
      "cell_type": "code",
      "metadata": {
        "id": "KgQ8-mnH4pTT",
        "colab_type": "code",
        "outputId": "2a724bc0-7486-4dde-a2e6-1d89b9411c8a",
        "colab": {
          "base_uri": "https://localhost:8080/",
          "height": 191
        }
      },
      "source": [
        "features, targets, feature_names = get_data()"
      ],
      "execution_count": 4,
      "outputs": [
        {
          "output_type": "stream",
          "text": [
            "['malignant' 'benign']\n",
            "['mean radius' 'mean texture' 'mean perimeter' 'mean area'\n",
            " 'mean smoothness' 'mean compactness' 'mean concavity'\n",
            " 'mean concave points' 'mean symmetry' 'mean fractal dimension'\n",
            " 'radius error' 'texture error' 'perimeter error' 'area error'\n",
            " 'smoothness error' 'compactness error' 'concavity error'\n",
            " 'concave points error' 'symmetry error' 'fractal dimension error'\n",
            " 'worst radius' 'worst texture' 'worst perimeter' 'worst area'\n",
            " 'worst smoothness' 'worst compactness' 'worst concavity'\n",
            " 'worst concave points' 'worst symmetry' 'worst fractal dimension']\n"
          ],
          "name": "stdout"
        }
      ]
    },
    {
      "cell_type": "markdown",
      "metadata": {
        "id": "OXDbcOfl1P1J",
        "colab_type": "text"
      },
      "source": [
        "### Trivial baseline\n",
        "\n",
        "How well can we do with a constant classifier?\n",
        "\n",
        "If we look at the average label, we can see how many 1s are in the data, so we know that our classifier has to get more than that accuracy"
      ]
    },
    {
      "cell_type": "code",
      "metadata": {
        "id": "_9iwLLowE4z8",
        "colab_type": "code",
        "outputId": "5ecc6249-12ba-456e-f9e0-45e677949984",
        "colab": {
          "base_uri": "https://localhost:8080/",
          "height": 34
        }
      },
      "source": [
        "np.mean(targets)"
      ],
      "execution_count": 5,
      "outputs": [
        {
          "output_type": "execute_result",
          "data": {
            "text/plain": [
              "0.6274165"
            ]
          },
          "metadata": {
            "tags": []
          },
          "execution_count": 5
        }
      ]
    },
    {
      "cell_type": "code",
      "metadata": {
        "id": "aA8nn2zy64F3",
        "colab_type": "code",
        "outputId": "433db0dc-73a0-447f-f1cd-ad9d47c4369f",
        "colab": {
          "base_uri": "https://localhost:8080/",
          "height": 34
        }
      },
      "source": [
        "features.shape"
      ],
      "execution_count": 6,
      "outputs": [
        {
          "output_type": "execute_result",
          "data": {
            "text/plain": [
              "(569, 31)"
            ]
          },
          "metadata": {
            "tags": []
          },
          "execution_count": 6
        }
      ]
    },
    {
      "cell_type": "code",
      "metadata": {
        "id": "TwJmx4bR5ooL",
        "colab_type": "code",
        "colab": {}
      },
      "source": [
        "dataset_size = features.shape[0]\n",
        "data_dims = features.shape[-1]"
      ],
      "execution_count": 0,
      "outputs": []
    },
    {
      "cell_type": "markdown",
      "metadata": {
        "id": "JzVQ6Z7szaqY",
        "colab_type": "text"
      },
      "source": [
        "## Logistic regression baseline - how well can we do on this dataset?\n",
        "\n",
        "Let's look at a simple, non Bayesian classification approach to get an idea of how well we can do on the dataset. "
      ]
    },
    {
      "cell_type": "code",
      "metadata": {
        "id": "Eft7ZXm64k_V",
        "colab_type": "code",
        "colab": {}
      },
      "source": [
        "lr = linear_model.LogisticRegression()"
      ],
      "execution_count": 0,
      "outputs": []
    },
    {
      "cell_type": "code",
      "metadata": {
        "id": "Lt9jDrhC4vYY",
        "colab_type": "code",
        "outputId": "cdb2a38e-1900-4e23-9c96-1c1ffa21caa9",
        "colab": {
          "base_uri": "https://localhost:8080/",
          "height": 89
        }
      },
      "source": [
        "lr.fit(features, targets)\n",
        "lr.score(features, targets)"
      ],
      "execution_count": 9,
      "outputs": [
        {
          "output_type": "stream",
          "text": [
            "/usr/local/lib/python2.7/dist-packages/sklearn/linear_model/logistic.py:433: FutureWarning: Default solver will be changed to 'lbfgs' in 0.22. Specify a solver to silence this warning.\n",
            "  FutureWarning)\n"
          ],
          "name": "stderr"
        },
        {
          "output_type": "execute_result",
          "data": {
            "text/plain": [
              "0.9876977152899824"
            ]
          },
          "metadata": {
            "tags": []
          },
          "execution_count": 9
        }
      ]
    },
    {
      "cell_type": "markdown",
      "metadata": {
        "id": "jv5OaALJ0mnB",
        "colab_type": "text"
      },
      "source": [
        "## Utilities"
      ]
    },
    {
      "cell_type": "code",
      "metadata": {
        "id": "th2ZTE8S0ooa",
        "colab_type": "code",
        "colab": {}
      },
      "source": [
        "def get_shape_list(tensor):\n",
        "  return tensor.shape.as_list()"
      ],
      "execution_count": 0,
      "outputs": []
    },
    {
      "cell_type": "code",
      "metadata": {
        "id": "3D0d_XbW1a9I",
        "colab_type": "code",
        "colab": {}
      },
      "source": [
        "def get_sklearn_data_as_tensors(\n",
        "      features, targets, batch_size, dataset_name='breast_cancer'):\n",
        "  \"\"\"Read sklearn datasets as tf.Tensors.\n",
        "\n",
        "  Args:\n",
        "    batch_size: Integer or None. If None, the entire dataset is used.\n",
        "    dataset_name: A string, the name of the dataset.\n",
        "\n",
        "  Returns:\n",
        "    A tuple of size two containing two tensors of rank 2 `[B, F]`, the data\n",
        "    features and targets.\n",
        "  \"\"\"\n",
        "  dataset = tf.data.Dataset.from_tensor_slices((features, targets))\n",
        "  if batch_size:\n",
        "    # Shuffle, repeat, and batch the examples.\n",
        "    batched_dataset = dataset.shuffle(1000).repeat().batch(batch_size)\n",
        "  else:\n",
        "    batch_size = features.shape[0]\n",
        "    batched_dataset = dataset.repeat().batch(batch_size)\n",
        "\n",
        "  iterator = batched_dataset.make_one_shot_iterator()\n",
        "  batch_features, batch_targets = iterator.get_next()\n",
        "\n",
        "  data_dim = features.shape[1]\n",
        "  batch_features.set_shape([batch_size, data_dim])\n",
        "  batch_targets.set_shape([batch_size])\n",
        "\n",
        "  return batch_features, batch_targets"
      ],
      "execution_count": 0,
      "outputs": []
    },
    {
      "cell_type": "markdown",
      "metadata": {
        "id": "pd923omSze8D",
        "colab_type": "text"
      },
      "source": [
        "## Bayesian Logistic Regression - define the prior and the posterior\n",
        "\n",
        "We will learn a distribution over parameters, so we will first define prior distribution, and then a posterior distribution over parameters which we \n",
        "will learn.\n",
        "\n",
        "Both of these distibutions will be Gaussian."
      ]
    },
    {
      "cell_type": "markdown",
      "metadata": {
        "id": "rnekwuYW7zoq",
        "colab_type": "text"
      },
      "source": [
        "## Task: implement the posterior distribution\n",
        "\n",
        "You have to implement two functions \n",
        "\n",
        "\n",
        "1.   multi_normal, which takes as arguments the mean and the log scale of the normal distribution, and returns a tensorflow distribution object. Have a look at the TensorFlow distibutions package. \n",
        "2.   diagonal_gaussian_posterior which returns a tuple of two elements, one being the posterior distribution (a call to multi_normal) and the learned variables. Your task here is to define the variables we will learn. The argument `data_dims` tells you the size of the learned parameters, and thus the size of the variables of the distribution).\n",
        "\n"
      ]
    },
    {
      "cell_type": "code",
      "metadata": {
        "id": "Iugzul802iEC",
        "colab_type": "code",
        "colab": {}
      },
      "source": [
        "def multi_normal(loc, log_scale):\n",
        "  scale = tf.exp(log_scale)\n",
        "  return tfd.MultivariateNormalDiag(loc=loc, scale_diag=scale)\n",
        "\n",
        "def diagonal_gaussian_posterior(data_dims, log_scale_init=0.0):\n",
        "  mean = tf.Variable(tf.zeros(data_dims, dtype=tf.float32), name=\"mean\")\n",
        "  log_scale = tf.Variable(log_scale_init*tf.ones(data_dims, dtype=tf.float32), name=\"log_scale\") \n",
        "  learned_vars = [mean, log_scale]\n",
        "  return multi_normal(loc=mean, log_scale=log_scale), learned_vars"
      ],
      "execution_count": 0,
      "outputs": []
    },
    {
      "cell_type": "markdown",
      "metadata": {
        "id": "wJ80lrXNvDFi",
        "colab_type": "text"
      },
      "source": [
        "## Bayesian Logistic Regression - the model"
      ]
    },
    {
      "cell_type": "markdown",
      "metadata": {
        "id": "2v2PO8UC3qxi",
        "colab_type": "text"
      },
      "source": [
        "### Hypers"
      ]
    },
    {
      "cell_type": "code",
      "metadata": {
        "id": "Sg6V1IGO3r8p",
        "colab_type": "code",
        "colab": {}
      },
      "source": [
        "BATCH_SIZE = 500\n",
        "NUM_POSTERIOR_SAMPLES = 100"
      ],
      "execution_count": 0,
      "outputs": []
    },
    {
      "cell_type": "code",
      "metadata": {
        "id": "8AwA1Stfvbe_",
        "colab_type": "code",
        "colab": {}
      },
      "source": [
        "prior = multi_normal(loc=tf.zeros(data_dims), log_scale=tf.zeros(data_dims))\n",
        "posterior, learned_vars  = diagonal_gaussian_posterior(data_dims)"
      ],
      "execution_count": 0,
      "outputs": []
    },
    {
      "cell_type": "code",
      "metadata": {
        "id": "DimyoNcuwmS9",
        "colab_type": "code",
        "colab": {}
      },
      "source": [
        "def _predictions(logits):\n",
        "  return tf.to_float(logits >= 0)\n",
        "\n",
        "def _accuracy(targets, predictions):\n",
        "  # `predictions` have rank 2: batch_size, num_posterior samples.\n",
        "  # We expand dims of the targets to compute the accuracy per sample.\n",
        "  targets = tf.expand_dims(targets, axis=1)\n",
        "  return tf.reduce_mean(tf.to_float(tf.equal(targets, predictions)))\n",
        "\n",
        "def linear_model(data, targets, posterior_samples):\n",
        "  num_posterior_samples = tf.shape(posterior_samples)[0]\n",
        "  logits = tf.matmul(data, posterior_samples, transpose_b=True)\n",
        "  # Make targets [B, 1] to use broadcasting.\n",
        "  targets = tf.expand_dims(targets, axis=1)\n",
        "  targets = targets * tf.ones([1, num_posterior_samples])\n",
        "\n",
        "  log_probs = - tf.nn.sigmoid_cross_entropy_with_logits(\n",
        "      labels=targets, logits=logits)\n",
        "  return log_probs, logits"
      ],
      "execution_count": 0,
      "outputs": []
    },
    {
      "cell_type": "markdown",
      "metadata": {
        "id": "W42eKG3v9MQn",
        "colab_type": "text"
      },
      "source": [
        "## Task: Run the model and return the components of the elbo"
      ]
    },
    {
      "cell_type": "code",
      "metadata": {
        "id": "4_eDfavd0XJo",
        "colab_type": "code",
        "colab": {}
      },
      "source": [
        "batch_features, batch_targets = \\\n",
        "    get_sklearn_data_as_tensors(features, targets, BATCH_SIZE)\n",
        "\n",
        "def run_model(posterior, num_samples):\n",
        "  # Sample from the posterior to obtain a set of parameters used for\n",
        "  # prediction. Use `num_samples` for the number of samples. \n",
        "  posterior_samples = posterior.sample(sample_shape=num_samples)\n",
        "\n",
        "  # Compute the log probs of the data under all the models we have sampled.\n",
        "  # These tensors are [num_samples, B]. Use the features and targets tensors.\n",
        "  log_probs, logits = linear_model(batch_features, batch_targets, posterior_samples)\n",
        "\n",
        "  # Compute the KL between the posterior and the prior.\n",
        "  # Note: since we use Gaussian distributions, the closed form of the \n",
        "  # KL can be computed. Remember that distributions are objects in TensorFlow!\n",
        "  kl = tfd.kl_divergence(prior, posterior, name=\"KLdivergence\")\n",
        "\n",
        "  # Sum over data. Normalize by dataset size to ensure that the gradients\n",
        "  # are not very different in magnitude when we change batch size.  \n",
        "  param_log_probs = tf.reduce_mean(log_probs, axis=0) * dataset_size \n",
        "  #zakaj to zgoraj nardimo: ker delamo v batching approximatamo logprob celega dataseta z tistim od batcha: logP(y|x,w) = sum_{i=1-n} logP(y_i|x_i,w) =approx= N* 1/B * sum_{i=1-B}logP(y_i|x_i,w)\n",
        "  #in to zato, ker bir adi delali stochastic grad descent.\n",
        "  #sometimes grad on whole dataset might be very flat, and the noisy approx of it by smaller subsets might be useful.\n",
        "  param_log_probs.shape.assert_is_compatible_with([num_samples])\n",
        "\n",
        "  return param_log_probs, kl, posterior_samples, logits "
      ],
      "execution_count": 0,
      "outputs": []
    },
    {
      "cell_type": "code",
      "metadata": {
        "id": "vN5pWJrnwf4V",
        "colab_type": "code",
        "colab": {}
      },
      "source": [
        "param_log_probs, kl, posterior_samples, logits = run_model(\n",
        "      posterior, NUM_POSTERIOR_SAMPLES)\n",
        "predictions = _predictions(logits)\n",
        "accuracy = _accuracy(targets=batch_targets, predictions=predictions)\n",
        "accuracy = tf.reduce_mean(accuracy)\n"
      ],
      "execution_count": 0,
      "outputs": []
    },
    {
      "cell_type": "markdown",
      "metadata": {
        "id": "XE855A8__FbD",
        "colab_type": "text"
      },
      "source": [
        "## Task: compute the elbo from the log probs and the KL \n",
        "\n",
        "`per_sample_elbo` should have shape [num_samples], since we obtain a model prediction for each of the sampled parameters.  "
      ]
    },
    {
      "cell_type": "code",
      "metadata": {
        "id": "yJEOOuNaxZrJ",
        "colab_type": "code",
        "colab": {
          "base_uri": "https://localhost:8080/",
          "height": 34
        },
        "outputId": "468bc089-f365-468c-9217-845c1025ea16"
      },
      "source": [
        "print(kl.shape, param_log_probs.shape)"
      ],
      "execution_count": 37,
      "outputs": [
        {
          "output_type": "stream",
          "text": [
            "(TensorShape([]), TensorShape([Dimension(100)]))\n"
          ],
          "name": "stdout"
        }
      ]
    },
    {
      "cell_type": "code",
      "metadata": {
        "id": "4J_L8B81_JBn",
        "colab_type": "code",
        "colab": {}
      },
      "source": [
        "per_sample_elbo = param_log_probs - kl\n",
        "elbo = tf.reduce_mean(per_sample_elbo)"
      ],
      "execution_count": 0,
      "outputs": []
    },
    {
      "cell_type": "markdown",
      "metadata": {
        "id": "xfwdvB2l154M",
        "colab_type": "text"
      },
      "source": [
        "## Training loop"
      ]
    },
    {
      "cell_type": "markdown",
      "metadata": {
        "id": "d2bpGEYV5cj-",
        "colab_type": "text"
      },
      "source": [
        "## Training the model via reparametrization"
      ]
    },
    {
      "cell_type": "code",
      "metadata": {
        "id": "cZ-7BFe7M-iB",
        "colab_type": "code",
        "colab": {}
      },
      "source": [
        "# Stochastic loss depends on the output of a sampling operation  (posterior samples)\n",
        "# but tensorflow implements reparametrization by default.\n",
        "per_sample_reparametrization_loss = - per_sample_elbo\n",
        "reparametrization_loss = tf.reduce_mean(per_sample_reparametrization_loss)"
      ],
      "execution_count": 0,
      "outputs": []
    },
    {
      "cell_type": "code",
      "metadata": {
        "id": "UBLPB0rNNOZS",
        "colab_type": "code",
        "colab": {}
      },
      "source": [
        "optimizer = tf.train.GradientDescentOptimizer(0.0001)\n",
        "reparam_min_op = optimizer.minimize(reparametrization_loss)"
      ],
      "execution_count": 0,
      "outputs": []
    },
    {
      "cell_type": "code",
      "metadata": {
        "id": "IIlHWgFjNfez",
        "colab_type": "code",
        "colab": {}
      },
      "source": [
        "NUM_ITERATIONS = 1000"
      ],
      "execution_count": 0,
      "outputs": []
    },
    {
      "cell_type": "code",
      "metadata": {
        "id": "ArWZCPDRNXhP",
        "colab_type": "code",
        "colab": {
          "base_uri": "https://localhost:8080/",
          "height": 1000
        },
        "outputId": "f12e5c42-5ebc-47c9-8c0c-60ce27ded656"
      },
      "source": [
        "sess = tf.Session()\n",
        "\n",
        "# Initialize all variables\n",
        "sess.run(tf.initialize_all_variables())\n",
        "\n",
        "reparam_accuracies = []\n",
        "reparam_kls = []\n",
        "reparam_elbos = []\n",
        "\n",
        "for i in xrange(NUM_ITERATIONS):\n",
        "  sess.run(reparam_min_op)\n",
        "\n",
        "  if i % 10 == 0:\n",
        "    reparam_acc, reparam_kl, reparam_elbo = sess.run([accuracy, kl, elbo])\n",
        "    reparam_accuracies += [reparam_acc]\n",
        "    reparam_kls += [reparam_kl]\n",
        "    reparam_elbos += [reparam_elbo]\n",
        "\n",
        "    print('Iteration {}. Elbo {}. KL {}'.format(\n",
        "        i, reparam_elbo, reparam_kl))\n",
        "\n",
        "reparam_learned_mean, reparam_learned_log_scale = sess.run(learned_vars)"
      ],
      "execution_count": 45,
      "outputs": [
        {
          "output_type": "stream",
          "text": [
            "W0706 15:00:38.218702 139815012120448 deprecation.py:323] From /usr/local/lib/python2.7/dist-packages/tensorflow/python/util/tf_should_use.py:193: initialize_all_variables (from tensorflow.python.ops.variables) is deprecated and will be removed after 2017-03-02.\n",
            "Instructions for updating:\n",
            "Use `tf.global_variables_initializer` instead.\n"
          ],
          "name": "stderr"
        },
        {
          "output_type": "stream",
          "text": [
            "Iteration 0. Elbo -1043.81713867. KL 0.00327511876822\n",
            "Iteration 10. Elbo -636.395141602. KL 0.276360750198\n",
            "Iteration 20. Elbo -480.654663086. KL 0.756315946579\n",
            "Iteration 30. Elbo -378.839416504. KL 1.23966491222\n",
            "Iteration 40. Elbo -350.873504639. KL 1.70637965202\n",
            "Iteration 50. Elbo -315.716400146. KL 2.14785432816\n",
            "Iteration 60. Elbo -265.325714111. KL 2.54041051865\n",
            "Iteration 70. Elbo -275.458282471. KL 2.90840959549\n",
            "Iteration 80. Elbo -205.419281006. KL 3.23674511909\n",
            "Iteration 90. Elbo -227.61517334. KL 3.58280205727\n",
            "Iteration 100. Elbo -195.08934021. KL 3.8931210041\n",
            "Iteration 110. Elbo -176.498092651. KL 4.18404865265\n",
            "Iteration 120. Elbo -178.006072998. KL 4.45383262634\n",
            "Iteration 130. Elbo -192.494628906. KL 4.71894168854\n",
            "Iteration 140. Elbo -154.041351318. KL 4.96762561798\n",
            "Iteration 150. Elbo -165.845001221. KL 5.2126750946\n",
            "Iteration 160. Elbo -164.833831787. KL 5.4498500824\n",
            "Iteration 170. Elbo -162.906936646. KL 5.66854524612\n",
            "Iteration 180. Elbo -150.8931427. KL 5.88886022568\n",
            "Iteration 190. Elbo -146.579101562. KL 6.11492061615\n",
            "Iteration 200. Elbo -134.531723022. KL 6.32833957672\n",
            "Iteration 210. Elbo -142.4012146. KL 6.50668001175\n",
            "Iteration 220. Elbo -130.055465698. KL 6.69718456268\n",
            "Iteration 230. Elbo -132.092025757. KL 6.8787689209\n",
            "Iteration 240. Elbo -123.959190369. KL 7.05900526047\n",
            "Iteration 250. Elbo -130.256790161. KL 7.23445558548\n",
            "Iteration 260. Elbo -109.56186676. KL 7.4054145813\n",
            "Iteration 270. Elbo -133.149291992. KL 7.58307218552\n",
            "Iteration 280. Elbo -129.128753662. KL 7.75109529495\n",
            "Iteration 290. Elbo -124.381347656. KL 7.91038703918\n",
            "Iteration 300. Elbo -122.278816223. KL 8.06728363037\n",
            "Iteration 310. Elbo -145.384689331. KL 8.22702217102\n",
            "Iteration 320. Elbo -115.329093933. KL 8.37921142578\n",
            "Iteration 330. Elbo -121.612678528. KL 8.52447891235\n",
            "Iteration 340. Elbo -112.941345215. KL 8.6596364975\n",
            "Iteration 350. Elbo -121.284416199. KL 8.80675888062\n",
            "Iteration 360. Elbo -104.771392822. KL 8.94297981262\n",
            "Iteration 370. Elbo -114.515838623. KL 9.08836460114\n",
            "Iteration 380. Elbo -100.544509888. KL 9.2234287262\n",
            "Iteration 390. Elbo -127.147888184. KL 9.35147571564\n",
            "Iteration 400. Elbo -88.1568756104. KL 9.48739433289\n",
            "Iteration 410. Elbo -108.84072113. KL 9.6213684082\n",
            "Iteration 420. Elbo -95.7826919556. KL 9.75115585327\n",
            "Iteration 430. Elbo -80.1415634155. KL 9.87467765808\n",
            "Iteration 440. Elbo -99.7651138306. KL 10.0027179718\n",
            "Iteration 450. Elbo -107.753326416. KL 10.1212205887\n",
            "Iteration 460. Elbo -104.782920837. KL 10.244600296\n",
            "Iteration 470. Elbo -100.614685059. KL 10.3477230072\n",
            "Iteration 480. Elbo -93.695098877. KL 10.4596738815\n",
            "Iteration 490. Elbo -94.9154510498. KL 10.5703468323\n",
            "Iteration 500. Elbo -103.088905334. KL 10.6872062683\n",
            "Iteration 510. Elbo -84.6145935059. KL 10.7939090729\n",
            "Iteration 520. Elbo -118.238868713. KL 10.9046058655\n",
            "Iteration 530. Elbo -94.8312988281. KL 11.0128097534\n",
            "Iteration 540. Elbo -95.7698059082. KL 11.1152467728\n",
            "Iteration 550. Elbo -84.7660751343. KL 11.2125892639\n",
            "Iteration 560. Elbo -94.2164001465. KL 11.3166236877\n",
            "Iteration 570. Elbo -95.7602539062. KL 11.4207544327\n",
            "Iteration 580. Elbo -96.0360641479. KL 11.5252332687\n",
            "Iteration 590. Elbo -96.5693969727. KL 11.6238174438\n",
            "Iteration 600. Elbo -98.0314331055. KL 11.711101532\n",
            "Iteration 610. Elbo -103.387557983. KL 11.8092775345\n",
            "Iteration 620. Elbo -91.0787582397. KL 11.9060516357\n",
            "Iteration 630. Elbo -94.8880157471. KL 11.9881744385\n",
            "Iteration 640. Elbo -105.964889526. KL 12.0876579285\n",
            "Iteration 650. Elbo -94.4729232788. KL 12.1770954132\n",
            "Iteration 660. Elbo -94.2794113159. KL 12.2682323456\n",
            "Iteration 670. Elbo -93.1441497803. KL 12.3540916443\n",
            "Iteration 680. Elbo -82.5736541748. KL 12.4341335297\n",
            "Iteration 690. Elbo -77.8994979858. KL 12.5235757828\n",
            "Iteration 700. Elbo -72.5232925415. KL 12.5994262695\n",
            "Iteration 710. Elbo -81.4371795654. KL 12.6841011047\n",
            "Iteration 720. Elbo -84.8502426147. KL 12.7661657333\n",
            "Iteration 730. Elbo -67.3670578003. KL 12.8423204422\n",
            "Iteration 740. Elbo -86.6210479736. KL 12.9235944748\n",
            "Iteration 750. Elbo -72.2513504028. KL 13.0030422211\n",
            "Iteration 760. Elbo -90.5619506836. KL 13.0805072784\n",
            "Iteration 770. Elbo -91.4573898315. KL 13.1528501511\n",
            "Iteration 780. Elbo -81.9247436523. KL 13.2243204117\n",
            "Iteration 790. Elbo -93.2465820312. KL 13.298623085\n",
            "Iteration 800. Elbo -85.8871765137. KL 13.3715810776\n",
            "Iteration 810. Elbo -84.9741287231. KL 13.4495382309\n",
            "Iteration 820. Elbo -91.8676376343. KL 13.5227899551\n",
            "Iteration 830. Elbo -86.3598022461. KL 13.5878419876\n",
            "Iteration 840. Elbo -79.7975463867. KL 13.6533432007\n",
            "Iteration 850. Elbo -73.0026092529. KL 13.7221403122\n",
            "Iteration 860. Elbo -83.836807251. KL 13.7898302078\n",
            "Iteration 870. Elbo -79.073638916. KL 13.8596811295\n",
            "Iteration 880. Elbo -87.2807617188. KL 13.9240674973\n",
            "Iteration 890. Elbo -80.2492904663. KL 13.9910812378\n",
            "Iteration 900. Elbo -97.0606918335. KL 14.0603475571\n",
            "Iteration 910. Elbo -84.9369049072. KL 14.1285400391\n",
            "Iteration 920. Elbo -85.4461517334. KL 14.189781189\n",
            "Iteration 930. Elbo -89.4969406128. KL 14.2507276535\n",
            "Iteration 940. Elbo -89.9543380737. KL 14.3136911392\n",
            "Iteration 950. Elbo -96.215133667. KL 14.3790845871\n",
            "Iteration 960. Elbo -95.7035369873. KL 14.4458646774\n",
            "Iteration 970. Elbo -75.3545150757. KL 14.5069952011\n",
            "Iteration 980. Elbo -72.4596176147. KL 14.5681419373\n",
            "Iteration 990. Elbo -70.4646377563. KL 14.6268873215\n"
          ],
          "name": "stdout"
        }
      ]
    },
    {
      "cell_type": "code",
      "metadata": {
        "id": "4Tbpa02jv_Dv",
        "colab_type": "code",
        "colab": {
          "base_uri": "https://localhost:8080/",
          "height": 387
        },
        "outputId": "bf70392b-9c95-43bb-bd5e-9613c4dc1e60"
      },
      "source": [
        "fig, axes = plt.subplots(1, 3, figsize=(3*8,5))\n",
        "\n",
        "axes[0].plot(reparam_elbos, label='ELBO')\n",
        "axes[0].set_title('Time', fontsize=15)\n",
        "axes[0].set_ylim((-500, -50))\n",
        "axes[0].legend()\n",
        "\n",
        "axes[1].plot(reparam_kls, label='KL')\n",
        "axes[1].set_title('Time', fontsize=15)\n",
        "axes[1].legend()\n",
        "\n",
        "axes[2].plot(reparam_accuracies, label='Accuracy')\n",
        "axes[2].set_title('Time', fontsize=15)\n",
        "axes[2].legend()"
      ],
      "execution_count": 46,
      "outputs": [
        {
          "output_type": "execute_result",
          "data": {
            "text/plain": [
              "<matplotlib.legend.Legend at 0x7f28eefdfbd0>"
            ]
          },
          "metadata": {
            "tags": []
          },
          "execution_count": 46
        },
        {
          "output_type": "display_data",
          "data": {
            "image/png": "[encoded data removed]",
            "text/plain": [
              "<Figure size 1728x360 with 3 Axes>"
            ]
          },
          "metadata": {
            "tags": []
          }
        }
      ]
    },
    {
      "cell_type": "markdown",
      "metadata": {
        "id": "qo-9zFbt5kii",
        "colab_type": "text"
      },
      "source": [
        "## Training the model via reinforce"
      ]
    },
    {
      "cell_type": "markdown",
      "metadata": {
        "id": "k25ZYFOU___p",
        "colab_type": "text"
      },
      "source": [
        "## Task: define the surrogate reinforce loss for the log prob term.\n",
        "\n",
        "Note: we do not need to use reinforce the KL term, since we can compute the KL analytically for the two Gaussians, and can use standard backprop. \n",
        "\n",
        "For the reinforce implementation, instead of changing the gradients, we will change the loss such that TensorFlow's automatic differentiation does the right thing. This is called a surrogate loss. \n",
        "\n",
        "The gradient we want to obtain is the following (since we want to minimize the loss, we add a minus):\n",
        "\\begin{equation}\n",
        "- \\mathbb{E}_{q_{\\theta}(w)} \\left[ \\nabla_{\\theta} \\log q_{\\theta}(w) \\mathbb{E}_{p^*(x, y)} \\log p(y| x, w) \\right]\n",
        "\\end{equation}\n",
        "\n",
        "so we need to construct a loss which has this gradient, by ensuring that the gradients will flow through the $\\log q_{\\theta}(w)$ term, but not the rest. "
      ]
    },
    {
      "cell_type": "code",
      "metadata": {
        "id": "nVSL5MhtSZj7",
        "colab_type": "code",
        "colab": {}
      },
      "source": [
        "# Since TensorFlow does automatic differentation, we have to use \n",
        "# tf.stop_gradient to ensure the gradient !_only_flows_! to\n",
        "# the log_{q_\\theta}(w) term.\n",
        "per_sample_reinforce_loss = -tf.stop_gradient(param_log_probs)*posterior.log_prob(tf.stop_gradient(posterior_samples))  # Shape [num_samples, batch size].\n",
        "# Reduce now over the number of samples.\n",
        "reinforce_loss = tf.reduce_mean(per_sample_reinforce_loss) + kl #tale vrstica ti naredi tisti zunanji expectation. tanotranji expectation je pa narejen ze nekje v eni od zgornjih celic (tam kjer sumamo/averageamo po batchu).\n",
        "\n"
      ],
      "execution_count": 0,
      "outputs": []
    },
    {
      "cell_type": "code",
      "metadata": {
        "colab_type": "code",
        "id": "WO4jbPvdTMd5",
        "colab": {}
      },
      "source": [
        "optimizer = tf.train.GradientDescentOptimizer(0.0001)\n",
        "reinforce_min_op = optimizer.minimize(reinforce_loss)"
      ],
      "execution_count": 0,
      "outputs": []
    },
    {
      "cell_type": "code",
      "metadata": {
        "colab_type": "code",
        "id": "GWpybmi6TMeD",
        "colab": {}
      },
      "source": [
        "NUM_ITERATIONS = 1000"
      ],
      "execution_count": 0,
      "outputs": []
    },
    {
      "cell_type": "code",
      "metadata": {
        "colab_type": "code",
        "id": "smLiPL7kTMeO",
        "colab": {
          "base_uri": "https://localhost:8080/",
          "height": 1000
        },
        "outputId": "c7040eaf-35c7-46d0-c6ba-85f32ba3bfa5"
      },
      "source": [
        "reinforce_accuracies = []\n",
        "reinforce_kls = []\n",
        "reinforce_elbos = []\n",
        "\n",
        "sess = tf.Session()\n",
        "\n",
        "# Initialize all variables\n",
        "sess.run(tf.initialize_all_variables())\n",
        "\n",
        "for i in xrange(NUM_ITERATIONS):\n",
        "  sess.run(reinforce_min_op)\n",
        "\n",
        "  if i % 10 == 0:\n",
        "    reinforce_acc, reinforce_kl, reinforce_elbo = sess.run([accuracy, kl, elbo])\n",
        "    reinforce_accuracies += [reinforce_acc]\n",
        "    reinforce_kls += [reinforce_kl]\n",
        "    reinforce_elbos += [reinforce_elbo]\n",
        "\n",
        "    print('Iteration {}. Elbo {}. KL {}'.format(\n",
        "        i, reinforce_elbo, reinforce_kl))\n",
        "\n",
        "reinforce_learned_mean, reinforce_learned_log_scale = sess.run(learned_vars)"
      ],
      "execution_count": 62,
      "outputs": [
        {
          "output_type": "stream",
          "text": [
            "Iteration 0. Elbo -1264.86010742. KL 0.0169694069773\n",
            "Iteration 10. Elbo -689.8828125. KL 0.406080245972\n",
            "Iteration 20. Elbo -497.553436279. KL 0.891268253326\n",
            "Iteration 30. Elbo -419.460662842. KL 1.3592966795\n",
            "Iteration 40. Elbo -399.536804199. KL 1.88225066662\n",
            "Iteration 50. Elbo -313.028900146. KL 2.30571317673\n",
            "Iteration 60. Elbo -288.394927979. KL 2.67438960075\n",
            "Iteration 70. Elbo -232.134628296. KL 3.00853157043\n",
            "Iteration 80. Elbo -217.006561279. KL 3.31562328339\n",
            "Iteration 90. Elbo -203.153686523. KL 3.64438796043\n",
            "Iteration 100. Elbo -190.448013306. KL 3.92471075058\n",
            "Iteration 110. Elbo -210.835876465. KL 4.15419006348\n",
            "Iteration 120. Elbo -203.819213867. KL 4.41300058365\n",
            "Iteration 130. Elbo -192.832855225. KL 4.6386961937\n",
            "Iteration 140. Elbo -175.646362305. KL 4.87356853485\n",
            "Iteration 150. Elbo -191.283538818. KL 5.10979557037\n",
            "Iteration 160. Elbo -180.681716919. KL 5.35692310333\n",
            "Iteration 170. Elbo -145.590332031. KL 5.62900781631\n",
            "Iteration 180. Elbo -165.358474731. KL 5.88225269318\n",
            "Iteration 190. Elbo -134.004852295. KL 6.08527183533\n",
            "Iteration 200. Elbo -147.557113647. KL 6.26247024536\n",
            "Iteration 210. Elbo -152.138473511. KL 6.40464687347\n",
            "Iteration 220. Elbo -146.272384644. KL 6.64486455917\n",
            "Iteration 230. Elbo -141.719284058. KL 6.89347982407\n",
            "Iteration 240. Elbo -134.607955933. KL 7.07207489014\n",
            "Iteration 250. Elbo -131.410079956. KL 7.26515483856\n",
            "Iteration 260. Elbo -127.269844055. KL 7.43008708954\n",
            "Iteration 270. Elbo -115.788856506. KL 7.64360189438\n",
            "Iteration 280. Elbo -122.976036072. KL 7.86154270172\n",
            "Iteration 290. Elbo -126.953010559. KL 8.0165348053\n",
            "Iteration 300. Elbo -112.014434814. KL 8.15097427368\n",
            "Iteration 310. Elbo -124.555198669. KL 8.36483860016\n",
            "Iteration 320. Elbo -134.718917847. KL 8.50629997253\n",
            "Iteration 330. Elbo -112.258644104. KL 8.66214179993\n",
            "Iteration 340. Elbo -112.644035339. KL 8.81447315216\n",
            "Iteration 350. Elbo -112.629013062. KL 8.97210788727\n",
            "Iteration 360. Elbo -111.54875946. KL 9.15925598145\n",
            "Iteration 370. Elbo -109.072189331. KL 9.2902545929\n",
            "Iteration 380. Elbo -111.574645996. KL 9.41396045685\n",
            "Iteration 390. Elbo -108.640769958. KL 9.57712364197\n",
            "Iteration 400. Elbo -113.159553528. KL 9.76281833649\n",
            "Iteration 410. Elbo -96.0975875854. KL 9.83867263794\n",
            "Iteration 420. Elbo -97.4447097778. KL 9.92580127716\n",
            "Iteration 430. Elbo -107.146316528. KL 10.0585975647\n",
            "Iteration 440. Elbo -111.243103027. KL 10.1193380356\n",
            "Iteration 450. Elbo -109.670402527. KL 10.2024822235\n",
            "Iteration 460. Elbo -111.255569458. KL 10.287563324\n",
            "Iteration 470. Elbo -83.2108078003. KL 10.4059066772\n",
            "Iteration 480. Elbo -108.126716614. KL 10.4983043671\n",
            "Iteration 490. Elbo -93.4847640991. KL 10.5798397064\n",
            "Iteration 500. Elbo -102.550849915. KL 10.6927242279\n",
            "Iteration 510. Elbo -88.9992599487. KL 10.8164844513\n",
            "Iteration 520. Elbo -100.02947998. KL 10.9715051651\n",
            "Iteration 530. Elbo -86.6336898804. KL 11.0539741516\n",
            "Iteration 540. Elbo -84.3364868164. KL 11.1408901215\n",
            "Iteration 550. Elbo -102.549072266. KL 11.2221794128\n",
            "Iteration 560. Elbo -97.2721862793. KL 11.3164968491\n",
            "Iteration 570. Elbo -99.7806091309. KL 11.3721914291\n",
            "Iteration 580. Elbo -103.348457336. KL 11.451256752\n",
            "Iteration 590. Elbo -102.566101074. KL 11.5567569733\n",
            "Iteration 600. Elbo -99.2347717285. KL 11.6708698273\n",
            "Iteration 610. Elbo -87.8675079346. KL 11.7250738144\n",
            "Iteration 620. Elbo -108.254707336. KL 11.8579998016\n",
            "Iteration 630. Elbo -100.640892029. KL 11.9559202194\n",
            "Iteration 640. Elbo -86.2919845581. KL 12.0304584503\n",
            "Iteration 650. Elbo -90.7585678101. KL 12.1136741638\n",
            "Iteration 660. Elbo -99.7998275757. KL 12.2165565491\n",
            "Iteration 670. Elbo -94.993270874. KL 12.3034648895\n",
            "Iteration 680. Elbo -91.2248840332. KL 12.3683404922\n",
            "Iteration 690. Elbo -84.0728530884. KL 12.4677639008\n",
            "Iteration 700. Elbo -107.90927124. KL 12.5038385391\n",
            "Iteration 710. Elbo -90.3980789185. KL 12.6159133911\n",
            "Iteration 720. Elbo -81.7424240112. KL 12.7185697556\n",
            "Iteration 730. Elbo -106.966110229. KL 12.7870378494\n",
            "Iteration 740. Elbo -96.5921859741. KL 12.8590450287\n",
            "Iteration 750. Elbo -87.1632995605. KL 12.9666252136\n",
            "Iteration 760. Elbo -83.6748275757. KL 13.0511817932\n",
            "Iteration 770. Elbo -90.7325668335. KL 13.1392688751\n",
            "Iteration 780. Elbo -77.8932495117. KL 13.2066020966\n",
            "Iteration 790. Elbo -82.2818908691. KL 13.2714490891\n",
            "Iteration 800. Elbo -84.981803894. KL 13.3532419205\n",
            "Iteration 810. Elbo -94.9546127319. KL 13.3892364502\n",
            "Iteration 820. Elbo -102.457023621. KL 13.4336261749\n",
            "Iteration 830. Elbo -85.7875061035. KL 13.528175354\n",
            "Iteration 840. Elbo -77.1722183228. KL 13.6191015244\n",
            "Iteration 850. Elbo -89.8138504028. KL 13.6761331558\n",
            "Iteration 860. Elbo -83.654548645. KL 13.6801214218\n",
            "Iteration 870. Elbo -85.8260345459. KL 13.7484617233\n",
            "Iteration 880. Elbo -69.8591766357. KL 13.8478555679\n",
            "Iteration 890. Elbo -91.5780944824. KL 13.8972568512\n",
            "Iteration 900. Elbo -77.7632293701. KL 13.910777092\n",
            "Iteration 910. Elbo -86.2669143677. KL 13.9568367004\n",
            "Iteration 920. Elbo -89.8471374512. KL 14.0222406387\n",
            "Iteration 930. Elbo -90.8879776001. KL 14.0767593384\n",
            "Iteration 940. Elbo -75.9265213013. KL 14.1284236908\n",
            "Iteration 950. Elbo -87.5227966309. KL 14.182513237\n",
            "Iteration 960. Elbo -86.584777832. KL 14.2346200943\n",
            "Iteration 970. Elbo -80.5763549805. KL 14.2867107391\n",
            "Iteration 980. Elbo -79.4926681519. KL 14.3929758072\n",
            "Iteration 990. Elbo -75.9349822998. KL 14.4287252426\n"
          ],
          "name": "stdout"
        }
      ]
    },
    {
      "cell_type": "code",
      "metadata": {
        "id": "seGE32mI8s1r",
        "colab_type": "code",
        "colab": {
          "base_uri": "https://localhost:8080/",
          "height": 387
        },
        "outputId": "6cc5c0ef-479b-4ba3-d471-ac71e0cd1097"
      },
      "source": [
        "fig, axes = plt.subplots(1, 3, figsize=(3*8,5))\n",
        "\n",
        "axes[0].plot(reinforce_elbos, label='ELBO')\n",
        "axes[0].set_title('Time', fontsize=15)\n",
        "axes[0].set_ylim((-500, -50))\n",
        "axes[0].legend()\n",
        "\n",
        "axes[1].plot(reinforce_kls, label='KL')\n",
        "axes[1].set_title('Time', fontsize=15)\n",
        "axes[1].legend()\n",
        "\n",
        "axes[2].plot(reinforce_accuracies, label='Accuracy')\n",
        "axes[2].set_title('Time', fontsize=15)\n",
        "axes[2].legend()"
      ],
      "execution_count": 63,
      "outputs": [
        {
          "output_type": "execute_result",
          "data": {
            "text/plain": [
              "<matplotlib.legend.Legend at 0x7f28ebefcd50>"
            ]
          },
          "metadata": {
            "tags": []
          },
          "execution_count": 63
        },
        {
          "output_type": "display_data",
          "data": {
            "image/png": "[encoded data removed]",
            "text/plain": [
              "<Figure size 1728x360 with 3 Axes>"
            ]
          },
          "metadata": {
            "tags": []
          }
        }
      ]
    },
    {
      "cell_type": "markdown",
      "metadata": {
        "id": "OQJ0iFv-6Xa-",
        "colab_type": "text"
      },
      "source": [
        "## Task: Analysis\n",
        "\n",
        "* How sensitive are the different estimators to the number of posterior samples used? Try 1, 10, 100.\n",
        "* How sensitive are the different estimators to the learning rate used? Try 1e-4, 1e-3 and 1e-2 for both estimators.\n",
        "* How sensitive are the different estimators to batch size? Try batch size 10 for both estimators."
      ]
    },
    {
      "cell_type": "markdown",
      "metadata": {
        "id": "kCcTNQsO5tE1",
        "colab_type": "text"
      },
      "source": [
        "# Visualize learned parameters\n",
        "\n",
        "* Let's visualize the learned parameters, as well as check the different uncertanties around different parameters\n",
        "* Can we now see which parameters are most important in the classification problem?"
      ]
    },
    {
      "cell_type": "code",
      "metadata": {
        "id": "VDHFNDkj7SPz",
        "colab_type": "code",
        "colab": {}
      },
      "source": [
        "learned_mean = reparam_learned_mean\n",
        "learned_scale = np.exp(reparam_learned_log_scale)"
      ],
      "execution_count": 0,
      "outputs": []
    },
    {
      "cell_type": "code",
      "metadata": {
        "id": "R5WoqVaZ9vGX",
        "colab_type": "code",
        "colab": {}
      },
      "source": [
        "PARAM_INDEX = 10"
      ],
      "execution_count": 0,
      "outputs": []
    },
    {
      "cell_type": "code",
      "metadata": {
        "id": "5wlSrBlz9Eeg",
        "colab_type": "code",
        "colab": {}
      },
      "source": [
        "def gaussian(x, mu, sig):\n",
        "    return np.exp(-np.power(x - mu, 2.) / (2 * np.power(sig, 2.)))"
      ],
      "execution_count": 0,
      "outputs": []
    },
    {
      "cell_type": "code",
      "metadata": {
        "id": "wxXoXzGo9FHV",
        "colab_type": "code",
        "colab": {
          "base_uri": "https://localhost:8080/",
          "height": 429
        },
        "outputId": "757e91bb-7227-49c5-ced9-7ab03972130a"
      },
      "source": [
        "mean = learned_mean[PARAM_INDEX]\n",
        "scale = learned_scale[PARAM_INDEX]\n",
        "x_values = np.linspace(-3, 3, num=1000)\n",
        "y_values = [gaussian(x, mean, scale) for x in x_values]\n",
        "\n",
        "plt.figure(figsize=(7,5))\n",
        "plt.plot(x_values, y_values)\n",
        "plt.vlines(\n",
        "      learned_mean[PARAM_INDEX], \n",
        "      ymin=0, \n",
        "      ymax=gaussian(mean, mean, scale),\n",
        "      colors='g',\n",
        "      alpha=0.8)\n",
        "\n",
        "plt.grid('off')\n",
        "x_std_values = np.linspace(mean - scale, mean + scale, num=1000)\n",
        "y_std_values = [gaussian(x, mean, scale) for x in x_std_values]\n",
        "plt.fill_between(x_std_values, y_std_values, 0, alpha=0.3, color='b')\n",
        "\n",
        "plt.title('Parameter name= {}'.format(feature_names[PARAM_INDEX]))"
      ],
      "execution_count": 67,
      "outputs": [
        {
          "output_type": "stream",
          "text": [
            "/usr/local/lib/python2.7/dist-packages/matplotlib/cbook/deprecation.py:107: MatplotlibDeprecationWarning: Passing one of 'on', 'true', 'off', 'false' as a boolean is deprecated; use an actual boolean (True/False) instead.\n",
            "  warnings.warn(message, mplDeprecation, stacklevel=1)\n"
          ],
          "name": "stderr"
        },
        {
          "output_type": "execute_result",
          "data": {
            "text/plain": [
              "Text(0.5,1,'Parameter name= radius error')"
            ]
          },
          "metadata": {
            "tags": []
          },
          "execution_count": 67
        },
        {
          "output_type": "display_data",
          "data": {
            "image/png": "[encoded data removed]",
            "text/plain": [
              "<Figure size 504x360 with 1 Axes>"
            ]
          },
          "metadata": {
            "tags": []
          }
        }
      ]
    },
    {
      "cell_type": "markdown",
      "metadata": {
        "id": "gksr5bG06AQT",
        "colab_type": "text"
      },
      "source": [
        "## Visualize gradient variance - which estimator has lower variance?\n",
        "\n",
        "* Let's assess the gradient variance per of each estimator, by looking at how much gradients vary for each estimators. "
      ]
    },
    {
      "cell_type": "code",
      "metadata": {
        "id": "fUc9PsoXAAui",
        "colab_type": "code",
        "colab": {}
      },
      "source": [
        "def per_batch_grads(ys, xs):\n",
        "  \"\"\"Computes the gradients of ys[i] wrt xs.\"\"\"\n",
        "  grads = []\n",
        "\n",
        "  for y in tf.unstack(ys, axis=0):\n",
        "    grads.append(tf.squeeze(tf.gradients(y, xs)[0]))\n",
        "  return tf.stack(grads, axis=0)"
      ],
      "execution_count": 0,
      "outputs": []
    },
    {
      "cell_type": "code",
      "metadata": {
        "id": "HQ93_xwrA-OZ",
        "colab_type": "code",
        "colab": {}
      },
      "source": [
        "def compute_grad_var(grads, param_index):\n",
        "  return np.mean(grads[:, param_index]), np.std(grads[:, param_index])**2"
      ],
      "execution_count": 0,
      "outputs": []
    },
    {
      "cell_type": "code",
      "metadata": {
        "id": "_ee7sAMBAP7V",
        "colab_type": "code",
        "colab": {
          "base_uri": "https://localhost:8080/",
          "height": 34
        },
        "outputId": "217d2f21-212e-494d-bdef-023b8c195b0a"
      },
      "source": [
        "per_batch_reinforce_grads = per_batch_grads(per_sample_reinforce_loss, learned_vars[0])\n",
        "per_batch_reinforce_grads.shape"
      ],
      "execution_count": 70,
      "outputs": [
        {
          "output_type": "execute_result",
          "data": {
            "text/plain": [
              "TensorShape([Dimension(100), Dimension(31)])"
            ]
          },
          "metadata": {
            "tags": []
          },
          "execution_count": 70
        }
      ]
    },
    {
      "cell_type": "code",
      "metadata": {
        "id": "Fqjku6G5EmUR",
        "colab_type": "code",
        "colab": {
          "base_uri": "https://localhost:8080/",
          "height": 34
        },
        "outputId": "ce06f483-fadf-4d9a-ded4-37939a833919"
      },
      "source": [
        "per_batch_reparam_grads = per_batch_grads(per_sample_reparametrization_loss, learned_vars[0])\n",
        "per_batch_reparam_grads.shape"
      ],
      "execution_count": 71,
      "outputs": [
        {
          "output_type": "execute_result",
          "data": {
            "text/plain": [
              "TensorShape([Dimension(100), Dimension(31)])"
            ]
          },
          "metadata": {
            "tags": []
          },
          "execution_count": 71
        }
      ]
    },
    {
      "cell_type": "code",
      "metadata": {
        "id": "uC5LrYVYAj66",
        "colab_type": "code",
        "colab": {}
      },
      "source": [
        "reinforce_grads = []\n",
        "\n",
        "sess = tf.Session()\n",
        "\n",
        "# Initialize all variables\n",
        "sess.run(tf.initialize_all_variables())\n",
        "\n",
        "for i in xrange(NUM_ITERATIONS):\n",
        "  sess.run(reinforce_min_op)\n",
        "\n",
        "  if i % 10 == 0:\n",
        "    reinforce_grads.append(sess.run(per_batch_reinforce_grads))"
      ],
      "execution_count": 0,
      "outputs": []
    },
    {
      "cell_type": "code",
      "metadata": {
        "id": "fifRpABRF5j4",
        "colab_type": "code",
        "colab": {}
      },
      "source": [
        "reparam_grads = []\n",
        "\n",
        "sess = tf.Session()\n",
        "\n",
        "# Initialize all variables\n",
        "sess.run(tf.initialize_all_variables())\n",
        "\n",
        "for i in xrange(NUM_ITERATIONS):\n",
        "  sess.run(reparam_min_op)\n",
        "\n",
        "  if i % 10 == 0:\n",
        "    reparam_grads.append(sess.run(per_batch_reparam_grads))"
      ],
      "execution_count": 0,
      "outputs": []
    },
    {
      "cell_type": "code",
      "metadata": {
        "id": "77PN9dRaCxF0",
        "colab_type": "code",
        "colab": {}
      },
      "source": [
        "PARAM_INDEX = 19"
      ],
      "execution_count": 0,
      "outputs": []
    },
    {
      "cell_type": "code",
      "metadata": {
        "id": "NXj7oslkBu9j",
        "colab_type": "code",
        "colab": {}
      },
      "source": [
        "reinforce_grad_vars = []\n",
        "for timestep_grad in reinforce_grads:\n",
        "  _, reinforce_grad_var = compute_grad_var(timestep_grad, PARAM_INDEX)\n",
        "  reinforce_grad_vars.append(reinforce_grad_var)"
      ],
      "execution_count": 0,
      "outputs": []
    },
    {
      "cell_type": "code",
      "metadata": {
        "id": "emEg7lOMGnSa",
        "colab_type": "code",
        "colab": {}
      },
      "source": [
        "reparam_grad_vars = []\n",
        "for timestep_grad in reparam_grads:\n",
        "  _, reparam_grad_var = compute_grad_var(timestep_grad, PARAM_INDEX)\n",
        "  reparam_grad_vars.append(reparam_grad_var)"
      ],
      "execution_count": 0,
      "outputs": []
    },
    {
      "cell_type": "code",
      "metadata": {
        "id": "wPsGH7elC0gH",
        "colab_type": "code",
        "colab": {
          "base_uri": "https://localhost:8080/",
          "height": 383
        },
        "outputId": "567bcf3a-07cb-478e-9533-fcdb5c444538"
      },
      "source": [
        "plt.figure(figsize=(7,5))\n",
        "plt.plot(reinforce_grad_vars, label='reinforce')\n",
        "plt.plot(reparam_grad_vars, label='reparametrization')\n",
        "plt.yscale('log')\n",
        "plt.xlabel('It')\n",
        "plt.ylabel('Gradient variance')\n",
        "plt.legend()"
      ],
      "execution_count": 80,
      "outputs": [
        {
          "output_type": "execute_result",
          "data": {
            "text/plain": [
              "<matplotlib.legend.Legend at 0x7f28ddbd84d0>"
            ]
          },
          "metadata": {
            "tags": []
          },
          "execution_count": 80
        },
        {
          "output_type": "display_data",
          "data": {
            "image/png": "[encoded data removed]",
            "text/plain": [
              "<Figure size 504x360 with 1 Axes>"
            ]
          },
          "metadata": {
            "tags": []
          }
        }
      ]
    },
    {
      "cell_type": "markdown",
      "metadata": {
        "id": "OYfwIlI1Guoa",
        "colab_type": "text"
      },
      "source": [
        "### Task: Analysis\n",
        "\n",
        "* What do you notice about gradient variance as training progresses?\n",
        "* What do you notice about the variance of the different estimators?\n",
        "* How do batch size and number of posterior samples affect the variance of the different estimators?\n",
        "* How does gradient variance affect convergence?\n",
        "* Which gradient estimator would you use in practice for this problem?"
      ]
    },
    {
      "cell_type": "markdown",
      "metadata": {
        "id": "1A6FIHHnXEnW",
        "colab_type": "text"
      },
      "source": [
        "## More\n",
        "\n",
        "You can find similar experiments with more analysis and more gradient estimators in [this paper](https://arxiv.org/pdf/1906.10652.pdf). See Section 8.3."
      ]
    }
  ]
}